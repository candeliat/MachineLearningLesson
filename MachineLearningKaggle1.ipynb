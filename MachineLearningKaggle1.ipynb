{
  "metadata": {
    "kernelspec": {
      "language": "python",
      "display_name": "Python 3",
      "name": "python3"
    },
    "language_info": {
      "name": "python",
      "version": "3.10.14",
      "mimetype": "text/x-python",
      "codemirror_mode": {
        "name": "ipython",
        "version": 3
      },
      "pygments_lexer": "ipython3",
      "nbconvert_exporter": "python",
      "file_extension": ".py"
    },
    "kaggle": {
      "accelerator": "none",
      "dataSources": [
        {
          "sourceId": 9667542,
          "sourceType": "datasetVersion",
          "datasetId": 5907336
        }
      ],
      "dockerImageVersionId": 30786,
      "isInternetEnabled": false,
      "language": "python",
      "sourceType": "notebook",
      "isGpuEnabled": false
    },
    "colab": {
      "name": "MachineLearningKaggle1",
      "provenance": [],
      "include_colab_link": true
    }
  },
  "nbformat_minor": 0,
  "nbformat": 4,
  "cells": [
    {
      "cell_type": "markdown",
      "metadata": {
        "id": "view-in-github",
        "colab_type": "text"
      },
      "source": [
        "<a href=\"https://colab.research.google.com/github/candeliat/MachineLearningLesson/blob/main/MachineLearningKaggle1.ipynb\" target=\"_parent\"><img src=\"https://colab.research.google.com/assets/colab-badge.svg\" alt=\"Open In Colab\"/></a>"
      ]
    },
    {
      "source": [
        "# IMPORTANT: SOME KAGGLE DATA SOURCES ARE PRIVATE\n",
        "# RUN THIS CELL IN ORDER TO IMPORT YOUR KAGGLE DATA SOURCES.\n",
        "import kagglehub\n",
        "kagglehub.login()\n"
      ],
      "metadata": {
        "id": "U_ofLS5D3Bdt"
      },
      "cell_type": "code",
      "outputs": [],
      "execution_count": null
    },
    {
      "source": [
        "# IMPORTANT: RUN THIS CELL IN ORDER TO IMPORT YOUR KAGGLE DATA SOURCES,\n",
        "# THEN FEEL FREE TO DELETE THIS CELL.\n",
        "# NOTE: THIS NOTEBOOK ENVIRONMENT DIFFERS FROM KAGGLE'S PYTHON\n",
        "# ENVIRONMENT SO THERE MAY BE MISSING LIBRARIES USED BY YOUR\n",
        "# NOTEBOOK.\n",
        "\n",
        "abdullahcandeliat_advertisingdataset_path = kagglehub.dataset_download('abdullahcandeliat/advertisingdataset')\n",
        "\n",
        "print('Data source import complete.')\n"
      ],
      "metadata": {
        "id": "w3b3hm0Z3Bdx"
      },
      "cell_type": "code",
      "outputs": [],
      "execution_count": null
    },
    {
      "cell_type": "code",
      "source": [
        "# This Python 3 environment comes with many helpful analytics libraries installed\n",
        "# It is defined by the kaggle/python Docker image: https://github.com/kaggle/docker-python\n",
        "# For example, here's several helpful packages to load\n",
        "\n",
        "import numpy as np # linear algebra\n",
        "import pandas as pd # data processing, CSV file I/O (e.g. pd.read_csv)\n",
        "\n",
        "# Input data files are available in the read-only \"../input/\" directory\n",
        "# For example, running this (by clicking run or pressing Shift+Enter) will list all files under the input directory\n",
        "\n",
        "import os\n",
        "for dirname, _, filenames in os.walk('/kaggle/input'):\n",
        "    for filename in filenames:\n",
        "        print(os.path.join(dirname, filename))\n",
        "\n",
        "# You can write up to 20GB to the current directory (/kaggle/working/) that gets preserved as output when you create a version using \"Save & Run All\"\n",
        "# You can also write temporary files to /kaggle/temp/, but they won't be saved outside of the current session"
      ],
      "metadata": {
        "_uuid": "8f2839f25d086af736a60e9eeb907d3b93b6e0e5",
        "_cell_guid": "b1076dfc-b9ad-4769-8c92-a6c4dae69d19",
        "execution": {
          "iopub.status.busy": "2024-10-29T11:26:58.907309Z",
          "iopub.execute_input": "2024-10-29T11:26:58.907849Z",
          "iopub.status.idle": "2024-10-29T11:26:59.385892Z",
          "shell.execute_reply.started": "2024-10-29T11:26:58.907801Z",
          "shell.execute_reply": "2024-10-29T11:26:59.384495Z"
        },
        "trusted": true,
        "id": "NlZRdCQC3Bdz",
        "outputId": "a125ff4b-4daa-4edf-af8d-2938d3745b43"
      },
      "outputs": [
        {
          "name": "stdout",
          "text": "/kaggle/input/advertisingdataset/Advertising.csv\n",
          "output_type": "stream"
        }
      ],
      "execution_count": null
    },
    {
      "cell_type": "code",
      "source": [
        "df = pd.read_csv(\"/kaggle/input/advertisingdataset/Advertising.csv\")\n",
        "df = df.iloc[:,1:len(df)]\n",
        "df.head()"
      ],
      "metadata": {
        "execution": {
          "iopub.status.busy": "2024-10-29T11:26:59.388125Z",
          "iopub.execute_input": "2024-10-29T11:26:59.388658Z",
          "iopub.status.idle": "2024-10-29T11:26:59.433317Z",
          "shell.execute_reply.started": "2024-10-29T11:26:59.388607Z",
          "shell.execute_reply": "2024-10-29T11:26:59.431993Z"
        },
        "trusted": true,
        "id": "zepEfy3s3Bd0",
        "outputId": "2348347a-9a33-44cd-a26c-e9cfca9021a0"
      },
      "outputs": [
        {
          "execution_count": 4,
          "output_type": "execute_result",
          "data": {
            "text/plain": "      TV  radio  newspaper  sales\n0  230.1   37.8       69.2   22.1\n1   44.5   39.3       45.1   10.4\n2   17.2   45.9       69.3    9.3\n3  151.5   41.3       58.5   18.5\n4  180.8   10.8       58.4   12.9",
            "text/html": "<div>\n<style scoped>\n    .dataframe tbody tr th:only-of-type {\n        vertical-align: middle;\n    }\n\n    .dataframe tbody tr th {\n        vertical-align: top;\n    }\n\n    .dataframe thead th {\n        text-align: right;\n    }\n</style>\n<table border=\"1\" class=\"dataframe\">\n  <thead>\n    <tr style=\"text-align: right;\">\n      <th></th>\n      <th>TV</th>\n      <th>radio</th>\n      <th>newspaper</th>\n      <th>sales</th>\n    </tr>\n  </thead>\n  <tbody>\n    <tr>\n      <th>0</th>\n      <td>230.1</td>\n      <td>37.8</td>\n      <td>69.2</td>\n      <td>22.1</td>\n    </tr>\n    <tr>\n      <th>1</th>\n      <td>44.5</td>\n      <td>39.3</td>\n      <td>45.1</td>\n      <td>10.4</td>\n    </tr>\n    <tr>\n      <th>2</th>\n      <td>17.2</td>\n      <td>45.9</td>\n      <td>69.3</td>\n      <td>9.3</td>\n    </tr>\n    <tr>\n      <th>3</th>\n      <td>151.5</td>\n      <td>41.3</td>\n      <td>58.5</td>\n      <td>18.5</td>\n    </tr>\n    <tr>\n      <th>4</th>\n      <td>180.8</td>\n      <td>10.8</td>\n      <td>58.4</td>\n      <td>12.9</td>\n    </tr>\n  </tbody>\n</table>\n</div>"
          },
          "metadata": {}
        }
      ],
      "execution_count": null
    },
    {
      "cell_type": "code",
      "source": [
        "df.info()"
      ],
      "metadata": {
        "execution": {
          "iopub.status.busy": "2024-10-29T11:26:59.435084Z",
          "iopub.execute_input": "2024-10-29T11:26:59.435488Z",
          "iopub.status.idle": "2024-10-29T11:26:59.467972Z",
          "shell.execute_reply.started": "2024-10-29T11:26:59.435446Z",
          "shell.execute_reply": "2024-10-29T11:26:59.466593Z"
        },
        "trusted": true,
        "id": "fuUZmOto3Bd1",
        "outputId": "27ce4926-fb17-41cb-bc30-1abc5e97f98e"
      },
      "outputs": [
        {
          "name": "stdout",
          "text": "<class 'pandas.core.frame.DataFrame'>\nRangeIndex: 200 entries, 0 to 199\nData columns (total 4 columns):\n #   Column     Non-Null Count  Dtype  \n---  ------     --------------  -----  \n 0   TV         200 non-null    float64\n 1   radio      200 non-null    float64\n 2   newspaper  200 non-null    float64\n 3   sales      200 non-null    float64\ndtypes: float64(4)\nmemory usage: 6.4 KB\n",
          "output_type": "stream"
        }
      ],
      "execution_count": null
    },
    {
      "cell_type": "code",
      "source": [
        "import seaborn as sns\n",
        "sns.jointplot(x= \"TV\", y= \"sales\", data= df , kind = \"reg\");"
      ],
      "metadata": {
        "execution": {
          "iopub.status.busy": "2024-10-29T11:26:59.471753Z",
          "iopub.execute_input": "2024-10-29T11:26:59.473056Z",
          "iopub.status.idle": "2024-10-29T11:27:01.60707Z",
          "shell.execute_reply.started": "2024-10-29T11:26:59.472982Z",
          "shell.execute_reply": "2024-10-29T11:27:01.605706Z"
        },
        "trusted": true,
        "id": "oq_VB7_z3Bd2",
        "outputId": "3a8683bd-6024-4fc4-b765-5b34c979789b"
      },
      "outputs": [
        {
          "name": "stderr",
          "text": "/opt/conda/lib/python3.10/site-packages/seaborn/_oldcore.py:1119: FutureWarning: use_inf_as_na option is deprecated and will be removed in a future version. Convert inf values to NaN before operating instead.\n  with pd.option_context('mode.use_inf_as_na', True):\n/opt/conda/lib/python3.10/site-packages/seaborn/_oldcore.py:1119: FutureWarning: use_inf_as_na option is deprecated and will be removed in a future version. Convert inf values to NaN before operating instead.\n  with pd.option_context('mode.use_inf_as_na', True):\n",
          "output_type": "stream"
        },
        {
          "output_type": "display_data",
          "data": {
            "text/plain": "<Figure size 600x600 with 3 Axes>",
            "image/png": "[encoded data removed]"
          },
          "metadata": {}
        }
      ],
      "execution_count": null
    },
    {
      "cell_type": "code",
      "source": [
        "from sklearn.linear_model import LinearRegression"
      ],
      "metadata": {
        "execution": {
          "iopub.status.busy": "2024-10-29T11:27:01.608625Z",
          "iopub.execute_input": "2024-10-29T11:27:01.609214Z",
          "iopub.status.idle": "2024-10-29T11:27:01.93737Z",
          "shell.execute_reply.started": "2024-10-29T11:27:01.609168Z",
          "shell.execute_reply": "2024-10-29T11:27:01.935862Z"
        },
        "trusted": true,
        "id": "ZYIt7Qq_3Bd3"
      },
      "outputs": [],
      "execution_count": null
    },
    {
      "cell_type": "code",
      "source": [
        "X = df[[\"TV\"]]"
      ],
      "metadata": {
        "execution": {
          "iopub.status.busy": "2024-10-29T11:27:01.939196Z",
          "iopub.execute_input": "2024-10-29T11:27:01.939616Z",
          "iopub.status.idle": "2024-10-29T11:27:01.948452Z",
          "shell.execute_reply.started": "2024-10-29T11:27:01.939574Z",
          "shell.execute_reply": "2024-10-29T11:27:01.946704Z"
        },
        "trusted": true,
        "id": "tD5a7gQ73Bd4"
      },
      "outputs": [],
      "execution_count": null
    },
    {
      "cell_type": "code",
      "source": [
        "X.head()"
      ],
      "metadata": {
        "execution": {
          "iopub.status.busy": "2024-10-29T11:27:01.950443Z",
          "iopub.execute_input": "2024-10-29T11:27:01.950953Z",
          "iopub.status.idle": "2024-10-29T11:27:01.96718Z",
          "shell.execute_reply.started": "2024-10-29T11:27:01.950909Z",
          "shell.execute_reply": "2024-10-29T11:27:01.965736Z"
        },
        "trusted": true,
        "id": "GnrY77WJ3Bd4",
        "outputId": "c60750e0-0497-4c75-fca4-96240f7ea019"
      },
      "outputs": [
        {
          "execution_count": 9,
          "output_type": "execute_result",
          "data": {
            "text/plain": "      TV\n0  230.1\n1   44.5\n2   17.2\n3  151.5\n4  180.8",
            "text/html": "<div>\n<style scoped>\n    .dataframe tbody tr th:only-of-type {\n        vertical-align: middle;\n    }\n\n    .dataframe tbody tr th {\n        vertical-align: top;\n    }\n\n    .dataframe thead th {\n        text-align: right;\n    }\n</style>\n<table border=\"1\" class=\"dataframe\">\n  <thead>\n    <tr style=\"text-align: right;\">\n      <th></th>\n      <th>TV</th>\n    </tr>\n  </thead>\n  <tbody>\n    <tr>\n      <th>0</th>\n      <td>230.1</td>\n    </tr>\n    <tr>\n      <th>1</th>\n      <td>44.5</td>\n    </tr>\n    <tr>\n      <th>2</th>\n      <td>17.2</td>\n    </tr>\n    <tr>\n      <th>3</th>\n      <td>151.5</td>\n    </tr>\n    <tr>\n      <th>4</th>\n      <td>180.8</td>\n    </tr>\n  </tbody>\n</table>\n</div>"
          },
          "metadata": {}
        }
      ],
      "execution_count": null
    },
    {
      "cell_type": "code",
      "source": [
        "y = df[[\"sales\"]]"
      ],
      "metadata": {
        "execution": {
          "iopub.status.busy": "2024-10-29T11:27:01.968949Z",
          "iopub.execute_input": "2024-10-29T11:27:01.969393Z",
          "iopub.status.idle": "2024-10-29T11:27:01.977385Z",
          "shell.execute_reply.started": "2024-10-29T11:27:01.969349Z",
          "shell.execute_reply": "2024-10-29T11:27:01.976043Z"
        },
        "trusted": true,
        "id": "es9wn7gm3Bd6"
      },
      "outputs": [],
      "execution_count": null
    },
    {
      "cell_type": "code",
      "source": [
        "reg = LinearRegression()"
      ],
      "metadata": {
        "execution": {
          "iopub.status.busy": "2024-10-29T11:27:01.979032Z",
          "iopub.execute_input": "2024-10-29T11:27:01.97957Z",
          "iopub.status.idle": "2024-10-29T11:27:01.991897Z",
          "shell.execute_reply.started": "2024-10-29T11:27:01.979513Z",
          "shell.execute_reply": "2024-10-29T11:27:01.990168Z"
        },
        "trusted": true,
        "id": "T6pQLEJn3Bd7"
      },
      "outputs": [],
      "execution_count": null
    },
    {
      "cell_type": "code",
      "source": [
        "model = reg.fit(X ,y)"
      ],
      "metadata": {
        "execution": {
          "iopub.status.busy": "2024-10-29T11:27:01.997452Z",
          "iopub.execute_input": "2024-10-29T11:27:01.998098Z",
          "iopub.status.idle": "2024-10-29T11:27:02.020457Z",
          "shell.execute_reply.started": "2024-10-29T11:27:01.998014Z",
          "shell.execute_reply": "2024-10-29T11:27:02.018929Z"
        },
        "trusted": true,
        "id": "QZlfUNQX3Bd7"
      },
      "outputs": [],
      "execution_count": null
    },
    {
      "cell_type": "code",
      "source": [
        "model"
      ],
      "metadata": {
        "execution": {
          "iopub.status.busy": "2024-10-29T11:27:02.022889Z",
          "iopub.execute_input": "2024-10-29T11:27:02.023419Z",
          "iopub.status.idle": "2024-10-29T11:27:02.035977Z",
          "shell.execute_reply.started": "2024-10-29T11:27:02.023363Z",
          "shell.execute_reply": "2024-10-29T11:27:02.034667Z"
        },
        "trusted": true,
        "id": "gNoQ3Io83Bd7",
        "outputId": "064422d7-ca64-4b30-ba21-6c0d6cdaae46"
      },
      "outputs": [
        {
          "execution_count": 13,
          "output_type": "execute_result",
          "data": {
            "text/plain": "LinearRegression()",
            "text/html": "<style>#sk-container-id-1 {color: black;background-color: white;}#sk-container-id-1 pre{padding: 0;}#sk-container-id-1 div.sk-toggleable {background-color: white;}#sk-container-id-1 label.sk-toggleable__label {cursor: pointer;display: block;width: 100%;margin-bottom: 0;padding: 0.3em;box-sizing: border-box;text-align: center;}#sk-container-id-1 label.sk-toggleable__label-arrow:before {content: \"▸\";float: left;margin-right: 0.25em;color: #696969;}#sk-container-id-1 label.sk-toggleable__label-arrow:hover:before {color: black;}#sk-container-id-1 div.sk-estimator:hover label.sk-toggleable__label-arrow:before {color: black;}#sk-container-id-1 div.sk-toggleable__content {max-height: 0;max-width: 0;overflow: hidden;text-align: left;background-color: #f0f8ff;}#sk-container-id-1 div.sk-toggleable__content pre {margin: 0.2em;color: black;border-radius: 0.25em;background-color: #f0f8ff;}#sk-container-id-1 input.sk-toggleable__control:checked~div.sk-toggleable__content {max-height: 200px;max-width: 100%;overflow: auto;}#sk-container-id-1 input.sk-toggleable__control:checked~label.sk-toggleable__label-arrow:before {content: \"▾\";}#sk-container-id-1 div.sk-estimator input.sk-toggleable__control:checked~label.sk-toggleable__label {background-color: #d4ebff;}#sk-container-id-1 div.sk-label input.sk-toggleable__control:checked~label.sk-toggleable__label {background-color: #d4ebff;}#sk-container-id-1 input.sk-hidden--visually {border: 0;clip: rect(1px 1px 1px 1px);clip: rect(1px, 1px, 1px, 1px);height: 1px;margin: -1px;overflow: hidden;padding: 0;position: absolute;width: 1px;}#sk-container-id-1 div.sk-estimator {font-family: monospace;background-color: #f0f8ff;border: 1px dotted black;border-radius: 0.25em;box-sizing: border-box;margin-bottom: 0.5em;}#sk-container-id-1 div.sk-estimator:hover {background-color: #d4ebff;}#sk-container-id-1 div.sk-parallel-item::after {content: \"\";width: 100%;border-bottom: 1px solid gray;flex-grow: 1;}#sk-container-id-1 div.sk-label:hover label.sk-toggleable__label {background-color: #d4ebff;}#sk-container-id-1 div.sk-serial::before {content: \"\";position: absolute;border-left: 1px solid gray;box-sizing: border-box;top: 0;bottom: 0;left: 50%;z-index: 0;}#sk-container-id-1 div.sk-serial {display: flex;flex-direction: column;align-items: center;background-color: white;padding-right: 0.2em;padding-left: 0.2em;position: relative;}#sk-container-id-1 div.sk-item {position: relative;z-index: 1;}#sk-container-id-1 div.sk-parallel {display: flex;align-items: stretch;justify-content: center;background-color: white;position: relative;}#sk-container-id-1 div.sk-item::before, #sk-container-id-1 div.sk-parallel-item::before {content: \"\";position: absolute;border-left: 1px solid gray;box-sizing: border-box;top: 0;bottom: 0;left: 50%;z-index: -1;}#sk-container-id-1 div.sk-parallel-item {display: flex;flex-direction: column;z-index: 1;position: relative;background-color: white;}#sk-container-id-1 div.sk-parallel-item:first-child::after {align-self: flex-end;width: 50%;}#sk-container-id-1 div.sk-parallel-item:last-child::after {align-self: flex-start;width: 50%;}#sk-container-id-1 div.sk-parallel-item:only-child::after {width: 0;}#sk-container-id-1 div.sk-dashed-wrapped {border: 1px dashed gray;margin: 0 0.4em 0.5em 0.4em;box-sizing: border-box;padding-bottom: 0.4em;background-color: white;}#sk-container-id-1 div.sk-label label {font-family: monospace;font-weight: bold;display: inline-block;line-height: 1.2em;}#sk-container-id-1 div.sk-label-container {text-align: center;}#sk-container-id-1 div.sk-container {/* jupyter's `normalize.less` sets `[hidden] { display: none; }` but bootstrap.min.css set `[hidden] { display: none !important; }` so we also need the `!important` here to be able to override the default hidden behavior on the sphinx rendered scikit-learn.org. See: https://github.com/scikit-learn/scikit-learn/issues/21755 */display: inline-block !important;position: relative;}#sk-container-id-1 div.sk-text-repr-fallback {display: none;}</style><div id=\"sk-container-id-1\" class=\"sk-top-container\"><div class=\"sk-text-repr-fallback\"><pre>LinearRegression()</pre><b>In a Jupyter environment, please rerun this cell to show the HTML representation or trust the notebook. <br />On GitHub, the HTML representation is unable to render, please try loading this page with nbviewer.org.</b></div><div class=\"sk-container\" hidden><div class=\"sk-item\"><div class=\"sk-estimator sk-toggleable\"><input class=\"sk-toggleable__control sk-hidden--visually\" id=\"sk-estimator-id-1\" type=\"checkbox\" checked><label for=\"sk-estimator-id-1\" class=\"sk-toggleable__label sk-toggleable__label-arrow\">LinearRegression</label><div class=\"sk-toggleable__content\"><pre>LinearRegression()</pre></div></div></div></div></div>"
          },
          "metadata": {}
        }
      ],
      "execution_count": null
    },
    {
      "cell_type": "code",
      "source": [
        "str(model)"
      ],
      "metadata": {
        "execution": {
          "iopub.status.busy": "2024-10-29T11:27:02.037734Z",
          "iopub.execute_input": "2024-10-29T11:27:02.038295Z",
          "iopub.status.idle": "2024-10-29T11:27:02.048425Z",
          "shell.execute_reply.started": "2024-10-29T11:27:02.038238Z",
          "shell.execute_reply": "2024-10-29T11:27:02.047025Z"
        },
        "trusted": true,
        "id": "lU-dNuo63Bd8",
        "outputId": "d39f60cb-abff-4e58-ef6e-faedc79ced92"
      },
      "outputs": [
        {
          "execution_count": 14,
          "output_type": "execute_result",
          "data": {
            "text/plain": "'LinearRegression()'"
          },
          "metadata": {}
        }
      ],
      "execution_count": null
    },
    {
      "cell_type": "code",
      "source": [
        "dir(model)"
      ],
      "metadata": {
        "execution": {
          "iopub.status.busy": "2024-10-29T11:27:02.050193Z",
          "iopub.execute_input": "2024-10-29T11:27:02.050659Z",
          "iopub.status.idle": "2024-10-29T11:27:02.06587Z",
          "shell.execute_reply.started": "2024-10-29T11:27:02.050599Z",
          "shell.execute_reply": "2024-10-29T11:27:02.064448Z"
        },
        "trusted": true,
        "id": "QAMefoD93Bd8",
        "outputId": "50050555-4dd7-4570-d0c7-99eef8f20c99"
      },
      "outputs": [
        {
          "execution_count": 15,
          "output_type": "execute_result",
          "data": {
            "text/plain": "['__abstractmethods__',\n '__annotations__',\n '__class__',\n '__delattr__',\n '__dict__',\n '__dir__',\n '__doc__',\n '__eq__',\n '__format__',\n '__ge__',\n '__getattribute__',\n '__getstate__',\n '__gt__',\n '__hash__',\n '__init__',\n '__init_subclass__',\n '__le__',\n '__lt__',\n '__module__',\n '__ne__',\n '__new__',\n '__reduce__',\n '__reduce_ex__',\n '__repr__',\n '__setattr__',\n '__setstate__',\n '__sizeof__',\n '__str__',\n '__subclasshook__',\n '__weakref__',\n '_abc_impl',\n '_check_feature_names',\n '_check_n_features',\n '_decision_function',\n '_estimator_type',\n '_get_param_names',\n '_get_tags',\n '_more_tags',\n '_parameter_constraints',\n '_repr_html_',\n '_repr_html_inner',\n '_repr_mimebundle_',\n '_set_intercept',\n '_validate_data',\n '_validate_params',\n 'coef_',\n 'copy_X',\n 'feature_names_in_',\n 'fit',\n 'fit_intercept',\n 'get_params',\n 'intercept_',\n 'n_features_in_',\n 'n_jobs',\n 'positive',\n 'predict',\n 'rank_',\n 'score',\n 'set_params',\n 'singular_']"
          },
          "metadata": {}
        }
      ],
      "execution_count": null
    },
    {
      "cell_type": "code",
      "source": [
        "model.intercept_"
      ],
      "metadata": {
        "execution": {
          "iopub.status.busy": "2024-10-29T11:27:02.067494Z",
          "iopub.execute_input": "2024-10-29T11:27:02.068033Z",
          "iopub.status.idle": "2024-10-29T11:27:02.085506Z",
          "shell.execute_reply.started": "2024-10-29T11:27:02.067977Z",
          "shell.execute_reply": "2024-10-29T11:27:02.084103Z"
        },
        "trusted": true,
        "id": "nJZ1Izxo3Bd9",
        "outputId": "d8a247e7-1457-4e12-c8b4-e430f8f9842b"
      },
      "outputs": [
        {
          "execution_count": 16,
          "output_type": "execute_result",
          "data": {
            "text/plain": "array([7.03259355])"
          },
          "metadata": {}
        }
      ],
      "execution_count": null
    },
    {
      "cell_type": "code",
      "source": [
        "model.coef_"
      ],
      "metadata": {
        "execution": {
          "iopub.status.busy": "2024-10-29T11:27:02.087164Z",
          "iopub.execute_input": "2024-10-29T11:27:02.087544Z",
          "iopub.status.idle": "2024-10-29T11:27:02.100846Z",
          "shell.execute_reply.started": "2024-10-29T11:27:02.087505Z",
          "shell.execute_reply": "2024-10-29T11:27:02.099335Z"
        },
        "trusted": true,
        "id": "GHnlMFXz3Bd-",
        "outputId": "694d5ac7-2789-4491-fd90-c2db207c65f5"
      },
      "outputs": [
        {
          "execution_count": 17,
          "output_type": "execute_result",
          "data": {
            "text/plain": "array([[0.04753664]])"
          },
          "metadata": {}
        }
      ],
      "execution_count": null
    },
    {
      "cell_type": "code",
      "source": [
        "#rkare\n",
        "model.score(X,y)"
      ],
      "metadata": {
        "execution": {
          "iopub.status.busy": "2024-10-29T11:27:02.102732Z",
          "iopub.execute_input": "2024-10-29T11:27:02.103332Z",
          "iopub.status.idle": "2024-10-29T11:27:02.122501Z",
          "shell.execute_reply.started": "2024-10-29T11:27:02.103274Z",
          "shell.execute_reply": "2024-10-29T11:27:02.120897Z"
        },
        "trusted": true,
        "id": "ytPzA-p83Bd-",
        "outputId": "ca9b78c8-146f-4947-e27a-9aff1d26808e"
      },
      "outputs": [
        {
          "execution_count": 18,
          "output_type": "execute_result",
          "data": {
            "text/plain": "0.611875050850071"
          },
          "metadata": {}
        }
      ],
      "execution_count": null
    },
    {
      "cell_type": "code",
      "source": [
        "import seaborn as sns\n",
        "import matplotlib.pyplot as plt\n",
        "g = sns.regplot(x=df[\"TV\"] , y= df[\"sales\"] , ci=None , scatter_kws={'color':'r', 's':9} )\n",
        "g.set_title(\"model denklemi : Sales = 7.03 + TV*0.05\")\n",
        "g.set_ylabel(\"satis sayisi\")\n",
        "g.set_xlabel(\"tv harcamalari\")\n",
        "plt.xlim(-10,310)\n",
        "plt.ylim(bottom=0)"
      ],
      "metadata": {
        "execution": {
          "iopub.status.busy": "2024-10-29T11:27:02.124134Z",
          "iopub.execute_input": "2024-10-29T11:27:02.124604Z",
          "iopub.status.idle": "2024-10-29T11:27:02.511064Z",
          "shell.execute_reply.started": "2024-10-29T11:27:02.124557Z",
          "shell.execute_reply": "2024-10-29T11:27:02.509819Z"
        },
        "trusted": true,
        "id": "yow6H49N3Bd_",
        "outputId": "9dced7dd-e5f6-4b6f-f3d4-2d51eabddeb6"
      },
      "outputs": [
        {
          "execution_count": 19,
          "output_type": "execute_result",
          "data": {
            "text/plain": "(0.0, 28.27)"
          },
          "metadata": {}
        },
        {
          "output_type": "display_data",
          "data": {
            "text/plain": "<Figure size 640x480 with 1 Axes>",
            "image/png": "[encoded data removed]"
          },
          "metadata": {}
        }
      ],
      "execution_count": null
    },
    {
      "cell_type": "code",
      "source": [
        "model.predict([[165]])"
      ],
      "metadata": {
        "execution": {
          "iopub.status.busy": "2024-10-29T11:27:02.512801Z",
          "iopub.execute_input": "2024-10-29T11:27:02.513364Z",
          "iopub.status.idle": "2024-10-29T11:27:02.524452Z",
          "shell.execute_reply.started": "2024-10-29T11:27:02.513307Z",
          "shell.execute_reply": "2024-10-29T11:27:02.523159Z"
        },
        "trusted": true,
        "id": "2p_PZ-KH3Bd_",
        "outputId": "9de6bfa4-3f82-4061-8f7a-18d86e7b3704"
      },
      "outputs": [
        {
          "name": "stderr",
          "text": "/opt/conda/lib/python3.10/site-packages/sklearn/base.py:439: UserWarning: X does not have valid feature names, but LinearRegression was fitted with feature names\n  warnings.warn(\n",
          "output_type": "stream"
        },
        {
          "execution_count": 20,
          "output_type": "execute_result",
          "data": {
            "text/plain": "array([[14.87613922]])"
          },
          "metadata": {}
        }
      ],
      "execution_count": null
    },
    {
      "cell_type": "code",
      "source": [
        "y.head()"
      ],
      "metadata": {
        "execution": {
          "iopub.status.busy": "2024-10-29T11:27:02.526344Z",
          "iopub.execute_input": "2024-10-29T11:27:02.52688Z",
          "iopub.status.idle": "2024-10-29T11:27:02.543837Z",
          "shell.execute_reply.started": "2024-10-29T11:27:02.526818Z",
          "shell.execute_reply": "2024-10-29T11:27:02.542239Z"
        },
        "trusted": true,
        "id": "0t5cOfCo3BeA",
        "outputId": "130686d4-29d8-490e-fed0-fb7d709b9ef7"
      },
      "outputs": [
        {
          "execution_count": 21,
          "output_type": "execute_result",
          "data": {
            "text/plain": "   sales\n0   22.1\n1   10.4\n2    9.3\n3   18.5\n4   12.9",
            "text/html": "<div>\n<style scoped>\n    .dataframe tbody tr th:only-of-type {\n        vertical-align: middle;\n    }\n\n    .dataframe tbody tr th {\n        vertical-align: top;\n    }\n\n    .dataframe thead th {\n        text-align: right;\n    }\n</style>\n<table border=\"1\" class=\"dataframe\">\n  <thead>\n    <tr style=\"text-align: right;\">\n      <th></th>\n      <th>sales</th>\n    </tr>\n  </thead>\n  <tbody>\n    <tr>\n      <th>0</th>\n      <td>22.1</td>\n    </tr>\n    <tr>\n      <th>1</th>\n      <td>10.4</td>\n    </tr>\n    <tr>\n      <th>2</th>\n      <td>9.3</td>\n    </tr>\n    <tr>\n      <th>3</th>\n      <td>18.5</td>\n    </tr>\n    <tr>\n      <th>4</th>\n      <td>12.9</td>\n    </tr>\n  </tbody>\n</table>\n</div>"
          },
          "metadata": {}
        }
      ],
      "execution_count": null
    },
    {
      "cell_type": "code",
      "source": [
        "model.predict(X)[0:6]"
      ],
      "metadata": {
        "execution": {
          "iopub.status.busy": "2024-10-29T11:27:02.546198Z",
          "iopub.execute_input": "2024-10-29T11:27:02.546649Z",
          "iopub.status.idle": "2024-10-29T11:27:02.560628Z",
          "shell.execute_reply.started": "2024-10-29T11:27:02.546569Z",
          "shell.execute_reply": "2024-10-29T11:27:02.559206Z"
        },
        "trusted": true,
        "id": "2jitqaUR3BeA",
        "outputId": "281d7d92-734e-4040-8dde-71c4235a34e0"
      },
      "outputs": [
        {
          "execution_count": 22,
          "output_type": "execute_result",
          "data": {
            "text/plain": "array([[17.97077451],\n       [ 9.14797405],\n       [ 7.85022376],\n       [14.23439457],\n       [15.62721814],\n       [ 7.44616232]])"
          },
          "metadata": {}
        }
      ],
      "execution_count": null
    },
    {
      "cell_type": "code",
      "source": [
        "gercek_y =y[0:10]"
      ],
      "metadata": {
        "execution": {
          "iopub.status.busy": "2024-10-29T11:27:02.562199Z",
          "iopub.execute_input": "2024-10-29T11:27:02.562622Z",
          "iopub.status.idle": "2024-10-29T11:27:02.575288Z",
          "shell.execute_reply.started": "2024-10-29T11:27:02.562572Z",
          "shell.execute_reply": "2024-10-29T11:27:02.573896Z"
        },
        "trusted": true,
        "id": "eb2InRlw3BeA"
      },
      "outputs": [],
      "execution_count": null
    },
    {
      "cell_type": "code",
      "source": [
        "tahmin_edilen_y = pd.DataFrame(model.predict(X)[0:10])"
      ],
      "metadata": {
        "execution": {
          "iopub.status.busy": "2024-10-29T11:27:02.57772Z",
          "iopub.execute_input": "2024-10-29T11:27:02.578311Z",
          "iopub.status.idle": "2024-10-29T11:27:02.592072Z",
          "shell.execute_reply.started": "2024-10-29T11:27:02.578252Z",
          "shell.execute_reply": "2024-10-29T11:27:02.590765Z"
        },
        "trusted": true,
        "id": "82oSvD7S3BeB"
      },
      "outputs": [],
      "execution_count": null
    },
    {
      "cell_type": "code",
      "source": [
        "hatalar = pd.concat([gercek_y , tahmin_edilen_y], axis=1)"
      ],
      "metadata": {
        "execution": {
          "iopub.status.busy": "2024-10-29T11:27:02.593761Z",
          "iopub.execute_input": "2024-10-29T11:27:02.594266Z",
          "iopub.status.idle": "2024-10-29T11:27:02.606029Z",
          "shell.execute_reply.started": "2024-10-29T11:27:02.594214Z",
          "shell.execute_reply": "2024-10-29T11:27:02.604239Z"
        },
        "trusted": true,
        "id": "2pAvv9yu3BeB"
      },
      "outputs": [],
      "execution_count": null
    },
    {
      "cell_type": "code",
      "source": [
        "hatalar.columns=[\"gercek_y\",\"tahmin_edilen_y\"]"
      ],
      "metadata": {
        "execution": {
          "iopub.status.busy": "2024-10-29T11:27:02.607917Z",
          "iopub.execute_input": "2024-10-29T11:27:02.608393Z",
          "iopub.status.idle": "2024-10-29T11:27:02.622448Z",
          "shell.execute_reply.started": "2024-10-29T11:27:02.60835Z",
          "shell.execute_reply": "2024-10-29T11:27:02.620909Z"
        },
        "trusted": true,
        "id": "OJff6s123BeB"
      },
      "outputs": [],
      "execution_count": null
    },
    {
      "cell_type": "code",
      "source": [
        "hatalar"
      ],
      "metadata": {
        "execution": {
          "iopub.status.busy": "2024-10-29T11:27:02.624591Z",
          "iopub.execute_input": "2024-10-29T11:27:02.625148Z",
          "iopub.status.idle": "2024-10-29T11:27:02.643735Z",
          "shell.execute_reply.started": "2024-10-29T11:27:02.625105Z",
          "shell.execute_reply": "2024-10-29T11:27:02.642207Z"
        },
        "trusted": true,
        "id": "VJ4TVFb73BeB",
        "outputId": "476a0d2c-d9d6-4212-fd37-ea36991615d2"
      },
      "outputs": [
        {
          "execution_count": 27,
          "output_type": "execute_result",
          "data": {
            "text/plain": "   gercek_y  tahmin_edilen_y\n0      22.1        17.970775\n1      10.4         9.147974\n2       9.3         7.850224\n3      18.5        14.234395\n4      12.9        15.627218\n5       7.2         7.446162\n6      11.8         9.765950\n7      13.2        12.746498\n8       4.8         7.441409\n9      10.6        16.530414",
            "text/html": "<div>\n<style scoped>\n    .dataframe tbody tr th:only-of-type {\n        vertical-align: middle;\n    }\n\n    .dataframe tbody tr th {\n        vertical-align: top;\n    }\n\n    .dataframe thead th {\n        text-align: right;\n    }\n</style>\n<table border=\"1\" class=\"dataframe\">\n  <thead>\n    <tr style=\"text-align: right;\">\n      <th></th>\n      <th>gercek_y</th>\n      <th>tahmin_edilen_y</th>\n    </tr>\n  </thead>\n  <tbody>\n    <tr>\n      <th>0</th>\n      <td>22.1</td>\n      <td>17.970775</td>\n    </tr>\n    <tr>\n      <th>1</th>\n      <td>10.4</td>\n      <td>9.147974</td>\n    </tr>\n    <tr>\n      <th>2</th>\n      <td>9.3</td>\n      <td>7.850224</td>\n    </tr>\n    <tr>\n      <th>3</th>\n      <td>18.5</td>\n      <td>14.234395</td>\n    </tr>\n    <tr>\n      <th>4</th>\n      <td>12.9</td>\n      <td>15.627218</td>\n    </tr>\n    <tr>\n      <th>5</th>\n      <td>7.2</td>\n      <td>7.446162</td>\n    </tr>\n    <tr>\n      <th>6</th>\n      <td>11.8</td>\n      <td>9.765950</td>\n    </tr>\n    <tr>\n      <th>7</th>\n      <td>13.2</td>\n      <td>12.746498</td>\n    </tr>\n    <tr>\n      <th>8</th>\n      <td>4.8</td>\n      <td>7.441409</td>\n    </tr>\n    <tr>\n      <th>9</th>\n      <td>10.6</td>\n      <td>16.530414</td>\n    </tr>\n  </tbody>\n</table>\n</div>"
          },
          "metadata": {}
        }
      ],
      "execution_count": null
    },
    {
      "cell_type": "code",
      "source": [
        "hatalar[\"hata\"]= hatalar[\"gercek_y\"] - hatalar[\"tahmin_edilen_y\"]"
      ],
      "metadata": {
        "execution": {
          "iopub.status.busy": "2024-10-29T11:27:02.645738Z",
          "iopub.execute_input": "2024-10-29T11:27:02.646262Z",
          "iopub.status.idle": "2024-10-29T11:27:02.654632Z",
          "shell.execute_reply.started": "2024-10-29T11:27:02.64621Z",
          "shell.execute_reply": "2024-10-29T11:27:02.653295Z"
        },
        "trusted": true,
        "id": "qw5o9BX03BeB"
      },
      "outputs": [],
      "execution_count": null
    },
    {
      "cell_type": "code",
      "source": [
        "hatalar"
      ],
      "metadata": {
        "execution": {
          "iopub.status.busy": "2024-10-29T11:27:02.656272Z",
          "iopub.execute_input": "2024-10-29T11:27:02.656667Z",
          "iopub.status.idle": "2024-10-29T11:27:02.676566Z",
          "shell.execute_reply.started": "2024-10-29T11:27:02.656617Z",
          "shell.execute_reply": "2024-10-29T11:27:02.675047Z"
        },
        "trusted": true,
        "id": "Mdk2G4Cb3BeC",
        "outputId": "8ec3ff4e-9f6b-4ed4-c344-5ff8aca4043c"
      },
      "outputs": [
        {
          "execution_count": 29,
          "output_type": "execute_result",
          "data": {
            "text/plain": "   gercek_y  tahmin_edilen_y      hata\n0      22.1        17.970775  4.129225\n1      10.4         9.147974  1.252026\n2       9.3         7.850224  1.449776\n3      18.5        14.234395  4.265605\n4      12.9        15.627218 -2.727218\n5       7.2         7.446162 -0.246162\n6      11.8         9.765950  2.034050\n7      13.2        12.746498  0.453502\n8       4.8         7.441409 -2.641409\n9      10.6        16.530414 -5.930414",
            "text/html": "<div>\n<style scoped>\n    .dataframe tbody tr th:only-of-type {\n        vertical-align: middle;\n    }\n\n    .dataframe tbody tr th {\n        vertical-align: top;\n    }\n\n    .dataframe thead th {\n        text-align: right;\n    }\n</style>\n<table border=\"1\" class=\"dataframe\">\n  <thead>\n    <tr style=\"text-align: right;\">\n      <th></th>\n      <th>gercek_y</th>\n      <th>tahmin_edilen_y</th>\n      <th>hata</th>\n    </tr>\n  </thead>\n  <tbody>\n    <tr>\n      <th>0</th>\n      <td>22.1</td>\n      <td>17.970775</td>\n      <td>4.129225</td>\n    </tr>\n    <tr>\n      <th>1</th>\n      <td>10.4</td>\n      <td>9.147974</td>\n      <td>1.252026</td>\n    </tr>\n    <tr>\n      <th>2</th>\n      <td>9.3</td>\n      <td>7.850224</td>\n      <td>1.449776</td>\n    </tr>\n    <tr>\n      <th>3</th>\n      <td>18.5</td>\n      <td>14.234395</td>\n      <td>4.265605</td>\n    </tr>\n    <tr>\n      <th>4</th>\n      <td>12.9</td>\n      <td>15.627218</td>\n      <td>-2.727218</td>\n    </tr>\n    <tr>\n      <th>5</th>\n      <td>7.2</td>\n      <td>7.446162</td>\n      <td>-0.246162</td>\n    </tr>\n    <tr>\n      <th>6</th>\n      <td>11.8</td>\n      <td>9.765950</td>\n      <td>2.034050</td>\n    </tr>\n    <tr>\n      <th>7</th>\n      <td>13.2</td>\n      <td>12.746498</td>\n      <td>0.453502</td>\n    </tr>\n    <tr>\n      <th>8</th>\n      <td>4.8</td>\n      <td>7.441409</td>\n      <td>-2.641409</td>\n    </tr>\n    <tr>\n      <th>9</th>\n      <td>10.6</td>\n      <td>16.530414</td>\n      <td>-5.930414</td>\n    </tr>\n  </tbody>\n</table>\n</div>"
          },
          "metadata": {}
        }
      ],
      "execution_count": null
    },
    {
      "cell_type": "code",
      "source": [
        "hatalar[\"hata_kareler\"]=hatalar[\"hata\"]**2"
      ],
      "metadata": {
        "execution": {
          "iopub.status.busy": "2024-10-29T11:27:02.683508Z",
          "iopub.execute_input": "2024-10-29T11:27:02.68399Z",
          "iopub.status.idle": "2024-10-29T11:27:02.691376Z",
          "shell.execute_reply.started": "2024-10-29T11:27:02.683944Z",
          "shell.execute_reply": "2024-10-29T11:27:02.689862Z"
        },
        "trusted": true,
        "id": "gTinH2EI3BeC"
      },
      "outputs": [],
      "execution_count": null
    },
    {
      "cell_type": "code",
      "source": [
        "hatalar"
      ],
      "metadata": {
        "execution": {
          "iopub.status.busy": "2024-10-29T11:27:02.693209Z",
          "iopub.execute_input": "2024-10-29T11:27:02.693668Z",
          "iopub.status.idle": "2024-10-29T11:27:02.71616Z",
          "shell.execute_reply.started": "2024-10-29T11:27:02.693623Z",
          "shell.execute_reply": "2024-10-29T11:27:02.714472Z"
        },
        "trusted": true,
        "id": "9i6WwvrU3BeD",
        "outputId": "80e03280-9317-4631-9dfd-65bc2464dbeb"
      },
      "outputs": [
        {
          "execution_count": 31,
          "output_type": "execute_result",
          "data": {
            "text/plain": "   gercek_y  tahmin_edilen_y      hata  hata_kareler\n0      22.1        17.970775  4.129225     17.050503\n1      10.4         9.147974  1.252026      1.567569\n2       9.3         7.850224  1.449776      2.101851\n3      18.5        14.234395  4.265605     18.195390\n4      12.9        15.627218 -2.727218      7.437719\n5       7.2         7.446162 -0.246162      0.060596\n6      11.8         9.765950  2.034050      4.137358\n7      13.2        12.746498  0.453502      0.205664\n8       4.8         7.441409 -2.641409      6.977040\n9      10.6        16.530414 -5.930414     35.169814",
            "text/html": "<div>\n<style scoped>\n    .dataframe tbody tr th:only-of-type {\n        vertical-align: middle;\n    }\n\n    .dataframe tbody tr th {\n        vertical-align: top;\n    }\n\n    .dataframe thead th {\n        text-align: right;\n    }\n</style>\n<table border=\"1\" class=\"dataframe\">\n  <thead>\n    <tr style=\"text-align: right;\">\n      <th></th>\n      <th>gercek_y</th>\n      <th>tahmin_edilen_y</th>\n      <th>hata</th>\n      <th>hata_kareler</th>\n    </tr>\n  </thead>\n  <tbody>\n    <tr>\n      <th>0</th>\n      <td>22.1</td>\n      <td>17.970775</td>\n      <td>4.129225</td>\n      <td>17.050503</td>\n    </tr>\n    <tr>\n      <th>1</th>\n      <td>10.4</td>\n      <td>9.147974</td>\n      <td>1.252026</td>\n      <td>1.567569</td>\n    </tr>\n    <tr>\n      <th>2</th>\n      <td>9.3</td>\n      <td>7.850224</td>\n      <td>1.449776</td>\n      <td>2.101851</td>\n    </tr>\n    <tr>\n      <th>3</th>\n      <td>18.5</td>\n      <td>14.234395</td>\n      <td>4.265605</td>\n      <td>18.195390</td>\n    </tr>\n    <tr>\n      <th>4</th>\n      <td>12.9</td>\n      <td>15.627218</td>\n      <td>-2.727218</td>\n      <td>7.437719</td>\n    </tr>\n    <tr>\n      <th>5</th>\n      <td>7.2</td>\n      <td>7.446162</td>\n      <td>-0.246162</td>\n      <td>0.060596</td>\n    </tr>\n    <tr>\n      <th>6</th>\n      <td>11.8</td>\n      <td>9.765950</td>\n      <td>2.034050</td>\n      <td>4.137358</td>\n    </tr>\n    <tr>\n      <th>7</th>\n      <td>13.2</td>\n      <td>12.746498</td>\n      <td>0.453502</td>\n      <td>0.205664</td>\n    </tr>\n    <tr>\n      <th>8</th>\n      <td>4.8</td>\n      <td>7.441409</td>\n      <td>-2.641409</td>\n      <td>6.977040</td>\n    </tr>\n    <tr>\n      <th>9</th>\n      <td>10.6</td>\n      <td>16.530414</td>\n      <td>-5.930414</td>\n      <td>35.169814</td>\n    </tr>\n  </tbody>\n</table>\n</div>"
          },
          "metadata": {}
        }
      ],
      "execution_count": null
    },
    {
      "cell_type": "code",
      "source": [
        "np.mean(hatalar[\"hata_kareler\"])"
      ],
      "metadata": {
        "execution": {
          "iopub.status.busy": "2024-10-29T11:27:02.717819Z",
          "iopub.execute_input": "2024-10-29T11:27:02.718284Z",
          "iopub.status.idle": "2024-10-29T11:27:02.73115Z",
          "shell.execute_reply.started": "2024-10-29T11:27:02.718224Z",
          "shell.execute_reply": "2024-10-29T11:27:02.729701Z"
        },
        "trusted": true,
        "id": "B18bfasr3BeD",
        "outputId": "551e34ff-976a-4bcc-98cc-62890bdbecf5"
      },
      "outputs": [
        {
          "execution_count": 32,
          "output_type": "execute_result",
          "data": {
            "text/plain": "9.290350329638102"
          },
          "metadata": {}
        }
      ],
      "execution_count": null
    },
    {
      "cell_type": "markdown",
      "source": [
        "**Coklu Dogrusal Regresyon**"
      ],
      "metadata": {
        "id": "gs0TUOHx3BeD"
      }
    },
    {
      "cell_type": "code",
      "source": [
        "df = pd.read_csv(\"/kaggle/input/advertisingdataset/Advertising.csv\")\n",
        "df = df.iloc[:,1:len(df)]\n",
        "df.head()"
      ],
      "metadata": {
        "execution": {
          "iopub.status.busy": "2024-10-29T11:27:02.732457Z",
          "iopub.execute_input": "2024-10-29T11:27:02.732886Z",
          "iopub.status.idle": "2024-10-29T11:27:02.757516Z",
          "shell.execute_reply.started": "2024-10-29T11:27:02.732845Z",
          "shell.execute_reply": "2024-10-29T11:27:02.756427Z"
        },
        "trusted": true,
        "id": "LObGp0373BeD",
        "outputId": "8ce88745-beb6-4cea-d129-f73b31d08969"
      },
      "outputs": [
        {
          "execution_count": 33,
          "output_type": "execute_result",
          "data": {
            "text/plain": "      TV  radio  newspaper  sales\n0  230.1   37.8       69.2   22.1\n1   44.5   39.3       45.1   10.4\n2   17.2   45.9       69.3    9.3\n3  151.5   41.3       58.5   18.5\n4  180.8   10.8       58.4   12.9",
            "text/html": "<div>\n<style scoped>\n    .dataframe tbody tr th:only-of-type {\n        vertical-align: middle;\n    }\n\n    .dataframe tbody tr th {\n        vertical-align: top;\n    }\n\n    .dataframe thead th {\n        text-align: right;\n    }\n</style>\n<table border=\"1\" class=\"dataframe\">\n  <thead>\n    <tr style=\"text-align: right;\">\n      <th></th>\n      <th>TV</th>\n      <th>radio</th>\n      <th>newspaper</th>\n      <th>sales</th>\n    </tr>\n  </thead>\n  <tbody>\n    <tr>\n      <th>0</th>\n      <td>230.1</td>\n      <td>37.8</td>\n      <td>69.2</td>\n      <td>22.1</td>\n    </tr>\n    <tr>\n      <th>1</th>\n      <td>44.5</td>\n      <td>39.3</td>\n      <td>45.1</td>\n      <td>10.4</td>\n    </tr>\n    <tr>\n      <th>2</th>\n      <td>17.2</td>\n      <td>45.9</td>\n      <td>69.3</td>\n      <td>9.3</td>\n    </tr>\n    <tr>\n      <th>3</th>\n      <td>151.5</td>\n      <td>41.3</td>\n      <td>58.5</td>\n      <td>18.5</td>\n    </tr>\n    <tr>\n      <th>4</th>\n      <td>180.8</td>\n      <td>10.8</td>\n      <td>58.4</td>\n      <td>12.9</td>\n    </tr>\n  </tbody>\n</table>\n</div>"
          },
          "metadata": {}
        }
      ],
      "execution_count": null
    },
    {
      "cell_type": "code",
      "source": [
        "X = df.drop('sales' , axis=1)\n",
        "y = df[[\"sales\"]]"
      ],
      "metadata": {
        "execution": {
          "iopub.status.busy": "2024-10-29T11:28:12.828228Z",
          "iopub.execute_input": "2024-10-29T11:28:12.828827Z",
          "iopub.status.idle": "2024-10-29T11:28:12.838561Z",
          "shell.execute_reply.started": "2024-10-29T11:28:12.82875Z",
          "shell.execute_reply": "2024-10-29T11:28:12.836963Z"
        },
        "trusted": true,
        "id": "aZdHLeuJ3BeE"
      },
      "outputs": [],
      "execution_count": null
    },
    {
      "cell_type": "code",
      "source": [
        "X.head()\n"
      ],
      "metadata": {
        "execution": {
          "iopub.status.busy": "2024-10-29T11:28:42.440928Z",
          "iopub.execute_input": "2024-10-29T11:28:42.441389Z",
          "iopub.status.idle": "2024-10-29T11:28:42.456901Z",
          "shell.execute_reply.started": "2024-10-29T11:28:42.441343Z",
          "shell.execute_reply": "2024-10-29T11:28:42.455147Z"
        },
        "trusted": true,
        "id": "vxP3XVic3BeE",
        "outputId": "86979798-2553-458d-dd5d-7deacf2c57e9"
      },
      "outputs": [
        {
          "execution_count": 37,
          "output_type": "execute_result",
          "data": {
            "text/plain": "      TV  radio  newspaper\n0  230.1   37.8       69.2\n1   44.5   39.3       45.1\n2   17.2   45.9       69.3\n3  151.5   41.3       58.5\n4  180.8   10.8       58.4",
            "text/html": "<div>\n<style scoped>\n    .dataframe tbody tr th:only-of-type {\n        vertical-align: middle;\n    }\n\n    .dataframe tbody tr th {\n        vertical-align: top;\n    }\n\n    .dataframe thead th {\n        text-align: right;\n    }\n</style>\n<table border=\"1\" class=\"dataframe\">\n  <thead>\n    <tr style=\"text-align: right;\">\n      <th></th>\n      <th>TV</th>\n      <th>radio</th>\n      <th>newspaper</th>\n    </tr>\n  </thead>\n  <tbody>\n    <tr>\n      <th>0</th>\n      <td>230.1</td>\n      <td>37.8</td>\n      <td>69.2</td>\n    </tr>\n    <tr>\n      <th>1</th>\n      <td>44.5</td>\n      <td>39.3</td>\n      <td>45.1</td>\n    </tr>\n    <tr>\n      <th>2</th>\n      <td>17.2</td>\n      <td>45.9</td>\n      <td>69.3</td>\n    </tr>\n    <tr>\n      <th>3</th>\n      <td>151.5</td>\n      <td>41.3</td>\n      <td>58.5</td>\n    </tr>\n    <tr>\n      <th>4</th>\n      <td>180.8</td>\n      <td>10.8</td>\n      <td>58.4</td>\n    </tr>\n  </tbody>\n</table>\n</div>"
          },
          "metadata": {}
        }
      ],
      "execution_count": null
    },
    {
      "cell_type": "code",
      "source": [
        "y.head()"
      ],
      "metadata": {
        "execution": {
          "iopub.status.busy": "2024-10-29T11:28:38.233967Z",
          "iopub.execute_input": "2024-10-29T11:28:38.234452Z",
          "iopub.status.idle": "2024-10-29T11:28:38.246472Z",
          "shell.execute_reply.started": "2024-10-29T11:28:38.234402Z",
          "shell.execute_reply": "2024-10-29T11:28:38.24507Z"
        },
        "trusted": true,
        "id": "6ALkW_fx3BeE",
        "outputId": "013f0f2c-0657-483f-86ab-6c227a04b266"
      },
      "outputs": [
        {
          "execution_count": 36,
          "output_type": "execute_result",
          "data": {
            "text/plain": "   sales\n0   22.1\n1   10.4\n2    9.3\n3   18.5\n4   12.9",
            "text/html": "<div>\n<style scoped>\n    .dataframe tbody tr th:only-of-type {\n        vertical-align: middle;\n    }\n\n    .dataframe tbody tr th {\n        vertical-align: top;\n    }\n\n    .dataframe thead th {\n        text-align: right;\n    }\n</style>\n<table border=\"1\" class=\"dataframe\">\n  <thead>\n    <tr style=\"text-align: right;\">\n      <th></th>\n      <th>sales</th>\n    </tr>\n  </thead>\n  <tbody>\n    <tr>\n      <th>0</th>\n      <td>22.1</td>\n    </tr>\n    <tr>\n      <th>1</th>\n      <td>10.4</td>\n    </tr>\n    <tr>\n      <th>2</th>\n      <td>9.3</td>\n    </tr>\n    <tr>\n      <th>3</th>\n      <td>18.5</td>\n    </tr>\n    <tr>\n      <th>4</th>\n      <td>12.9</td>\n    </tr>\n  </tbody>\n</table>\n</div>"
          },
          "metadata": {}
        }
      ],
      "execution_count": null
    },
    {
      "cell_type": "code",
      "source": [
        "#STATSMODELS İLE MODEL KURMAK"
      ],
      "metadata": {
        "execution": {
          "iopub.status.busy": "2024-10-29T11:29:42.263098Z",
          "iopub.execute_input": "2024-10-29T11:29:42.264233Z",
          "iopub.status.idle": "2024-10-29T11:29:42.269817Z",
          "shell.execute_reply.started": "2024-10-29T11:29:42.264178Z",
          "shell.execute_reply": "2024-10-29T11:29:42.268382Z"
        },
        "trusted": true,
        "id": "pHac-dF23BeF"
      },
      "outputs": [],
      "execution_count": null
    },
    {
      "cell_type": "code",
      "source": [
        "import statsmodels.api as sm"
      ],
      "metadata": {
        "execution": {
          "iopub.status.busy": "2024-10-29T11:30:33.251147Z",
          "iopub.execute_input": "2024-10-29T11:30:33.251625Z",
          "iopub.status.idle": "2024-10-29T11:30:35.308092Z",
          "shell.execute_reply.started": "2024-10-29T11:30:33.251582Z",
          "shell.execute_reply": "2024-10-29T11:30:35.306807Z"
        },
        "trusted": true,
        "id": "eErcUGIL3BeF"
      },
      "outputs": [],
      "execution_count": null
    },
    {
      "cell_type": "code",
      "source": [
        "lm = sm.OLS(y,X)"
      ],
      "metadata": {
        "execution": {
          "iopub.status.busy": "2024-10-29T11:31:00.296386Z",
          "iopub.execute_input": "2024-10-29T11:31:00.296879Z",
          "iopub.status.idle": "2024-10-29T11:31:00.304343Z",
          "shell.execute_reply.started": "2024-10-29T11:31:00.296833Z",
          "shell.execute_reply": "2024-10-29T11:31:00.302886Z"
        },
        "trusted": true,
        "id": "tfO0FABo3BeF"
      },
      "outputs": [],
      "execution_count": null
    },
    {
      "cell_type": "code",
      "source": [
        "model = lm.fit()"
      ],
      "metadata": {
        "execution": {
          "iopub.status.busy": "2024-10-29T11:31:26.192186Z",
          "iopub.execute_input": "2024-10-29T11:31:26.19265Z",
          "iopub.status.idle": "2024-10-29T11:31:26.200549Z",
          "shell.execute_reply.started": "2024-10-29T11:31:26.192603Z",
          "shell.execute_reply": "2024-10-29T11:31:26.198815Z"
        },
        "trusted": true,
        "id": "aBuIQqQl3BeG"
      },
      "outputs": [],
      "execution_count": null
    },
    {
      "cell_type": "code",
      "source": [
        "model.summary()"
      ],
      "metadata": {
        "execution": {
          "iopub.status.busy": "2024-10-29T11:31:39.278248Z",
          "iopub.execute_input": "2024-10-29T11:31:39.278846Z",
          "iopub.status.idle": "2024-10-29T11:31:39.325832Z",
          "shell.execute_reply.started": "2024-10-29T11:31:39.278768Z",
          "shell.execute_reply": "2024-10-29T11:31:39.324303Z"
        },
        "trusted": true,
        "id": "24N3Z61g3BeG",
        "outputId": "7ae296cb-5713-4ab8-97de-5135e969057b"
      },
      "outputs": [
        {
          "execution_count": 43,
          "output_type": "execute_result",
          "data": {
            "text/plain": "<class 'statsmodels.iolib.summary.Summary'>\n\"\"\"\n                                 OLS Regression Results                                \n=======================================================================================\nDep. Variable:                  sales   R-squared (uncentered):                   0.982\nModel:                            OLS   Adj. R-squared (uncentered):              0.982\nMethod:                 Least Squares   F-statistic:                              3566.\nDate:                Tue, 29 Oct 2024   Prob (F-statistic):                   2.43e-171\nTime:                        11:31:39   Log-Likelihood:                         -423.54\nNo. Observations:                 200   AIC:                                      853.1\nDf Residuals:                     197   BIC:                                      863.0\nDf Model:                           3                                                  \nCovariance Type:            nonrobust                                                  \n==============================================================================\n                 coef    std err          t      P>|t|      [0.025      0.975]\n------------------------------------------------------------------------------\nTV             0.0538      0.001     40.507      0.000       0.051       0.056\nradio          0.2222      0.009     23.595      0.000       0.204       0.241\nnewspaper      0.0168      0.007      2.517      0.013       0.004       0.030\n==============================================================================\nOmnibus:                        5.982   Durbin-Watson:                   2.038\nProb(Omnibus):                  0.050   Jarque-Bera (JB):                7.039\nSkew:                          -0.232   Prob(JB):                       0.0296\nKurtosis:                       3.794   Cond. No.                         12.6\n==============================================================================\n\nNotes:\n[1] R² is computed without centering (uncentered) since the model does not contain a constant.\n[2] Standard Errors assume that the covariance matrix of the errors is correctly specified.\n\"\"\"",
            "text/html": "<table class=\"simpletable\">\n<caption>OLS Regression Results</caption>\n<tr>\n  <th>Dep. Variable:</th>          <td>sales</td>      <th>  R-squared (uncentered):</th>      <td>   0.982</td> \n</tr>\n<tr>\n  <th>Model:</th>                   <td>OLS</td>       <th>  Adj. R-squared (uncentered):</th> <td>   0.982</td> \n</tr>\n<tr>\n  <th>Method:</th>             <td>Least Squares</td>  <th>  F-statistic:       </th>          <td>   3566.</td> \n</tr>\n<tr>\n  <th>Date:</th>             <td>Tue, 29 Oct 2024</td> <th>  Prob (F-statistic):</th>          <td>2.43e-171</td>\n</tr>\n<tr>\n  <th>Time:</th>                 <td>11:31:39</td>     <th>  Log-Likelihood:    </th>          <td> -423.54</td> \n</tr>\n<tr>\n  <th>No. Observations:</th>      <td>   200</td>      <th>  AIC:               </th>          <td>   853.1</td> \n</tr>\n<tr>\n  <th>Df Residuals:</th>          <td>   197</td>      <th>  BIC:               </th>          <td>   863.0</td> \n</tr>\n<tr>\n  <th>Df Model:</th>              <td>     3</td>      <th>                     </th>              <td> </td>    \n</tr>\n<tr>\n  <th>Covariance Type:</th>      <td>nonrobust</td>    <th>                     </th>              <td> </td>    \n</tr>\n</table>\n<table class=\"simpletable\">\n<tr>\n      <td></td>         <th>coef</th>     <th>std err</th>      <th>t</th>      <th>P>|t|</th>  <th>[0.025</th>    <th>0.975]</th>  \n</tr>\n<tr>\n  <th>TV</th>        <td>    0.0538</td> <td>    0.001</td> <td>   40.507</td> <td> 0.000</td> <td>    0.051</td> <td>    0.056</td>\n</tr>\n<tr>\n  <th>radio</th>     <td>    0.2222</td> <td>    0.009</td> <td>   23.595</td> <td> 0.000</td> <td>    0.204</td> <td>    0.241</td>\n</tr>\n<tr>\n  <th>newspaper</th> <td>    0.0168</td> <td>    0.007</td> <td>    2.517</td> <td> 0.013</td> <td>    0.004</td> <td>    0.030</td>\n</tr>\n</table>\n<table class=\"simpletable\">\n<tr>\n  <th>Omnibus:</th>       <td> 5.982</td> <th>  Durbin-Watson:     </th> <td>   2.038</td>\n</tr>\n<tr>\n  <th>Prob(Omnibus):</th> <td> 0.050</td> <th>  Jarque-Bera (JB):  </th> <td>   7.039</td>\n</tr>\n<tr>\n  <th>Skew:</th>          <td>-0.232</td> <th>  Prob(JB):          </th> <td>  0.0296</td>\n</tr>\n<tr>\n  <th>Kurtosis:</th>      <td> 3.794</td> <th>  Cond. No.          </th> <td>    12.6</td>\n</tr>\n</table><br/><br/>Notes:<br/>[1] R² is computed without centering (uncentered) since the model does not contain a constant.<br/>[2] Standard Errors assume that the covariance matrix of the errors is correctly specified.",
            "text/latex": "\\begin{center}\n\\begin{tabular}{lclc}\n\\toprule\n\\textbf{Dep. Variable:}    &      sales       & \\textbf{  R-squared (uncentered):}      &     0.982   \\\\\n\\textbf{Model:}            &       OLS        & \\textbf{  Adj. R-squared (uncentered):} &     0.982   \\\\\n\\textbf{Method:}           &  Least Squares   & \\textbf{  F-statistic:       }          &     3566.   \\\\\n\\textbf{Date:}             & Tue, 29 Oct 2024 & \\textbf{  Prob (F-statistic):}          & 2.43e-171   \\\\\n\\textbf{Time:}             &     11:31:39     & \\textbf{  Log-Likelihood:    }          &   -423.54   \\\\\n\\textbf{No. Observations:} &         200      & \\textbf{  AIC:               }          &     853.1   \\\\\n\\textbf{Df Residuals:}     &         197      & \\textbf{  BIC:               }          &     863.0   \\\\\n\\textbf{Df Model:}         &           3      & \\textbf{                     }          &             \\\\\n\\textbf{Covariance Type:}  &    nonrobust     & \\textbf{                     }          &             \\\\\n\\bottomrule\n\\end{tabular}\n\\begin{tabular}{lcccccc}\n                   & \\textbf{coef} & \\textbf{std err} & \\textbf{t} & \\textbf{P$> |$t$|$} & \\textbf{[0.025} & \\textbf{0.975]}  \\\\\n\\midrule\n\\textbf{TV}        &       0.0538  &        0.001     &    40.507  &         0.000        &        0.051    &        0.056     \\\\\n\\textbf{radio}     &       0.2222  &        0.009     &    23.595  &         0.000        &        0.204    &        0.241     \\\\\n\\textbf{newspaper} &       0.0168  &        0.007     &     2.517  &         0.013        &        0.004    &        0.030     \\\\\n\\bottomrule\n\\end{tabular}\n\\begin{tabular}{lclc}\n\\textbf{Omnibus:}       &  5.982 & \\textbf{  Durbin-Watson:     } &    2.038  \\\\\n\\textbf{Prob(Omnibus):} &  0.050 & \\textbf{  Jarque-Bera (JB):  } &    7.039  \\\\\n\\textbf{Skew:}          & -0.232 & \\textbf{  Prob(JB):          } &   0.0296  \\\\\n\\textbf{Kurtosis:}      &  3.794 & \\textbf{  Cond. No.          } &     12.6  \\\\\n\\bottomrule\n\\end{tabular}\n%\\caption{OLS Regression Results}\n\\end{center}\n\nNotes: \\newline\n [1] R² is computed without centering (uncentered) since the model does not contain a constant. \\newline\n [2] Standard Errors assume that the covariance matrix of the errors is correctly specified."
          },
          "metadata": {}
        }
      ],
      "execution_count": null
    },
    {
      "cell_type": "code",
      "source": [
        "#SCİKİT LEARN İLE MODEL KURMAK"
      ],
      "metadata": {
        "execution": {
          "iopub.status.busy": "2024-10-29T11:36:02.854377Z",
          "iopub.execute_input": "2024-10-29T11:36:02.854966Z",
          "iopub.status.idle": "2024-10-29T11:36:02.862841Z",
          "shell.execute_reply.started": "2024-10-29T11:36:02.854909Z",
          "shell.execute_reply": "2024-10-29T11:36:02.861254Z"
        },
        "trusted": true,
        "id": "tHC7U3xj3BeG"
      },
      "outputs": [],
      "execution_count": null
    },
    {
      "cell_type": "code",
      "source": [
        "lm = LinearRegression()"
      ],
      "metadata": {
        "execution": {
          "iopub.status.busy": "2024-10-29T11:36:39.211668Z",
          "iopub.execute_input": "2024-10-29T11:36:39.21227Z",
          "iopub.status.idle": "2024-10-29T11:36:39.218425Z",
          "shell.execute_reply.started": "2024-10-29T11:36:39.212196Z",
          "shell.execute_reply": "2024-10-29T11:36:39.216643Z"
        },
        "trusted": true,
        "id": "UcTvgy6Z3BeH"
      },
      "outputs": [],
      "execution_count": null
    },
    {
      "cell_type": "code",
      "source": [
        "model=lm.fit(X ,y)"
      ],
      "metadata": {
        "execution": {
          "iopub.status.busy": "2024-10-29T11:37:34.138077Z",
          "iopub.execute_input": "2024-10-29T11:37:34.138595Z",
          "iopub.status.idle": "2024-10-29T11:37:34.149947Z",
          "shell.execute_reply.started": "2024-10-29T11:37:34.138545Z",
          "shell.execute_reply": "2024-10-29T11:37:34.147928Z"
        },
        "trusted": true,
        "id": "ehVkHrrd3BeH"
      },
      "outputs": [],
      "execution_count": null
    },
    {
      "cell_type": "code",
      "source": [
        "model.intercept_"
      ],
      "metadata": {
        "execution": {
          "iopub.status.busy": "2024-10-29T11:37:47.923668Z",
          "iopub.execute_input": "2024-10-29T11:37:47.924684Z",
          "iopub.status.idle": "2024-10-29T11:37:47.933303Z",
          "shell.execute_reply.started": "2024-10-29T11:37:47.924628Z",
          "shell.execute_reply": "2024-10-29T11:37:47.93201Z"
        },
        "trusted": true,
        "id": "uJtcpjwg3BeH",
        "outputId": "e52e915a-fa34-4bf0-b4c1-b4f4ff3184d0"
      },
      "outputs": [
        {
          "execution_count": 49,
          "output_type": "execute_result",
          "data": {
            "text/plain": "array([2.93888937])"
          },
          "metadata": {}
        }
      ],
      "execution_count": null
    },
    {
      "cell_type": "code",
      "source": [
        "model.coef_"
      ],
      "metadata": {
        "execution": {
          "iopub.status.busy": "2024-10-29T11:37:59.895183Z",
          "iopub.execute_input": "2024-10-29T11:37:59.895686Z",
          "iopub.status.idle": "2024-10-29T11:37:59.905155Z",
          "shell.execute_reply.started": "2024-10-29T11:37:59.895641Z",
          "shell.execute_reply": "2024-10-29T11:37:59.903598Z"
        },
        "trusted": true,
        "id": "Pllouv2L3BeH",
        "outputId": "1b6761a6-9193-4e44-cef0-45050938c368"
      },
      "outputs": [
        {
          "execution_count": 50,
          "output_type": "execute_result",
          "data": {
            "text/plain": "array([[ 0.04576465,  0.18853002, -0.00103749]])"
          },
          "metadata": {}
        }
      ],
      "execution_count": null
    },
    {
      "cell_type": "markdown",
      "source": [
        "**TAHMİN**\n",
        "\n",
        "Sales = 2.94 + TV*0,04 + radio*0,19 - newspaper*0,001"
      ],
      "metadata": {
        "id": "DPD2ivV53BeI"
      }
    },
    {
      "cell_type": "code",
      "source": [
        "yeni_veri = [[30],[10],[40]]"
      ],
      "metadata": {
        "execution": {
          "iopub.status.busy": "2024-10-29T11:43:08.341472Z",
          "iopub.execute_input": "2024-10-29T11:43:08.342026Z",
          "iopub.status.idle": "2024-10-29T11:43:08.348512Z",
          "shell.execute_reply.started": "2024-10-29T11:43:08.341977Z",
          "shell.execute_reply": "2024-10-29T11:43:08.346872Z"
        },
        "trusted": true,
        "id": "De35L-tO3BeI"
      },
      "outputs": [],
      "execution_count": null
    },
    {
      "cell_type": "code",
      "source": [
        "yeni_veri = pd.DataFrame(yeni_veri).T"
      ],
      "metadata": {
        "execution": {
          "iopub.status.busy": "2024-10-29T11:43:46.847424Z",
          "iopub.execute_input": "2024-10-29T11:43:46.847907Z",
          "iopub.status.idle": "2024-10-29T11:43:46.855252Z",
          "shell.execute_reply.started": "2024-10-29T11:43:46.84786Z",
          "shell.execute_reply": "2024-10-29T11:43:46.853834Z"
        },
        "trusted": true,
        "id": "FIWDBsX43BeI"
      },
      "outputs": [],
      "execution_count": null
    },
    {
      "cell_type": "code",
      "source": [
        "yeni_veri"
      ],
      "metadata": {
        "execution": {
          "iopub.status.busy": "2024-10-29T11:44:00.35052Z",
          "iopub.execute_input": "2024-10-29T11:44:00.351066Z",
          "iopub.status.idle": "2024-10-29T11:44:00.36546Z",
          "shell.execute_reply.started": "2024-10-29T11:44:00.351015Z",
          "shell.execute_reply": "2024-10-29T11:44:00.363145Z"
        },
        "trusted": true,
        "id": "bM_ODgyz3BeI",
        "outputId": "c9ec7f75-5ab1-4fcc-d501-d3d321e27ef5"
      },
      "outputs": [
        {
          "execution_count": 53,
          "output_type": "execute_result",
          "data": {
            "text/plain": "    0   1   2\n0  30  10  40",
            "text/html": "<div>\n<style scoped>\n    .dataframe tbody tr th:only-of-type {\n        vertical-align: middle;\n    }\n\n    .dataframe tbody tr th {\n        vertical-align: top;\n    }\n\n    .dataframe thead th {\n        text-align: right;\n    }\n</style>\n<table border=\"1\" class=\"dataframe\">\n  <thead>\n    <tr style=\"text-align: right;\">\n      <th></th>\n      <th>0</th>\n      <th>1</th>\n      <th>2</th>\n    </tr>\n  </thead>\n  <tbody>\n    <tr>\n      <th>0</th>\n      <td>30</td>\n      <td>10</td>\n      <td>40</td>\n    </tr>\n  </tbody>\n</table>\n</div>"
          },
          "metadata": {}
        }
      ],
      "execution_count": null
    },
    {
      "cell_type": "code",
      "source": [
        "model.predict(yeni_veri)"
      ],
      "metadata": {
        "execution": {
          "iopub.status.busy": "2024-10-29T11:44:39.101969Z",
          "iopub.execute_input": "2024-10-29T11:44:39.102417Z",
          "iopub.status.idle": "2024-10-29T11:44:39.113669Z",
          "shell.execute_reply.started": "2024-10-29T11:44:39.102374Z",
          "shell.execute_reply": "2024-10-29T11:44:39.112278Z"
        },
        "trusted": true,
        "id": "BIRGNMZg3BeJ",
        "outputId": "00e53b44-9a54-46ff-d84f-9b6b7e7fa1c6"
      },
      "outputs": [
        {
          "name": "stderr",
          "text": "/opt/conda/lib/python3.10/site-packages/sklearn/base.py:439: UserWarning: X does not have valid feature names, but LinearRegression was fitted with feature names\n  warnings.warn(\n",
          "output_type": "stream"
        },
        {
          "execution_count": 54,
          "output_type": "execute_result",
          "data": {
            "text/plain": "array([[6.15562918]])"
          },
          "metadata": {}
        }
      ],
      "execution_count": null
    },
    {
      "cell_type": "code",
      "source": [
        "from sklearn.metrics import mean_squared_error"
      ],
      "metadata": {
        "execution": {
          "iopub.status.busy": "2024-10-29T11:52:28.561303Z",
          "iopub.execute_input": "2024-10-29T11:52:28.561796Z",
          "iopub.status.idle": "2024-10-29T11:52:28.568619Z",
          "shell.execute_reply.started": "2024-10-29T11:52:28.561731Z",
          "shell.execute_reply": "2024-10-29T11:52:28.567069Z"
        },
        "trusted": true,
        "id": "E8R61IxR3BeJ"
      },
      "outputs": [],
      "execution_count": null
    },
    {
      "cell_type": "code",
      "source": [
        "y.head()"
      ],
      "metadata": {
        "execution": {
          "iopub.status.busy": "2024-10-29T11:52:56.560497Z",
          "iopub.execute_input": "2024-10-29T11:52:56.561005Z",
          "iopub.status.idle": "2024-10-29T11:52:56.573103Z",
          "shell.execute_reply.started": "2024-10-29T11:52:56.56096Z",
          "shell.execute_reply": "2024-10-29T11:52:56.571631Z"
        },
        "trusted": true,
        "id": "v0jE6eg13BeJ",
        "outputId": "41dcf1fc-b664-4429-b042-3f60971844de"
      },
      "outputs": [
        {
          "execution_count": 56,
          "output_type": "execute_result",
          "data": {
            "text/plain": "   sales\n0   22.1\n1   10.4\n2    9.3\n3   18.5\n4   12.9",
            "text/html": "<div>\n<style scoped>\n    .dataframe tbody tr th:only-of-type {\n        vertical-align: middle;\n    }\n\n    .dataframe tbody tr th {\n        vertical-align: top;\n    }\n\n    .dataframe thead th {\n        text-align: right;\n    }\n</style>\n<table border=\"1\" class=\"dataframe\">\n  <thead>\n    <tr style=\"text-align: right;\">\n      <th></th>\n      <th>sales</th>\n    </tr>\n  </thead>\n  <tbody>\n    <tr>\n      <th>0</th>\n      <td>22.1</td>\n    </tr>\n    <tr>\n      <th>1</th>\n      <td>10.4</td>\n    </tr>\n    <tr>\n      <th>2</th>\n      <td>9.3</td>\n    </tr>\n    <tr>\n      <th>3</th>\n      <td>18.5</td>\n    </tr>\n    <tr>\n      <th>4</th>\n      <td>12.9</td>\n    </tr>\n  </tbody>\n</table>\n</div>"
          },
          "metadata": {}
        }
      ],
      "execution_count": null
    },
    {
      "cell_type": "code",
      "source": [
        "model.predict(X)[0:10]"
      ],
      "metadata": {
        "execution": {
          "iopub.status.busy": "2024-10-29T11:53:28.669835Z",
          "iopub.execute_input": "2024-10-29T11:53:28.6704Z",
          "iopub.status.idle": "2024-10-29T11:53:28.682864Z",
          "shell.execute_reply.started": "2024-10-29T11:53:28.670354Z",
          "shell.execute_reply": "2024-10-29T11:53:28.681367Z"
        },
        "trusted": true,
        "id": "_oIAHpEB3BeJ",
        "outputId": "7217323d-8710-4a8d-8234-9adc7c3fd3cf"
      },
      "outputs": [
        {
          "execution_count": 57,
          "output_type": "execute_result",
          "data": {
            "text/plain": "array([[20.52397441],\n       [12.33785482],\n       [12.30767078],\n       [17.59782951],\n       [13.18867186],\n       [12.47834763],\n       [11.72975995],\n       [12.12295317],\n       [ 3.72734086],\n       [12.55084872]])"
          },
          "metadata": {}
        }
      ],
      "execution_count": null
    },
    {
      "cell_type": "code",
      "source": [
        "MSE=mean_squared_error(y , model.predict(X))\n",
        "MSE"
      ],
      "metadata": {
        "execution": {
          "iopub.status.busy": "2024-10-29T11:54:43.836268Z",
          "iopub.execute_input": "2024-10-29T11:54:43.836731Z",
          "iopub.status.idle": "2024-10-29T11:54:43.851017Z",
          "shell.execute_reply.started": "2024-10-29T11:54:43.836689Z",
          "shell.execute_reply": "2024-10-29T11:54:43.849346Z"
        },
        "trusted": true,
        "id": "3MC5V-de3BeK",
        "outputId": "d629a106-4f62-4b2d-e242-2c4c9771107f"
      },
      "outputs": [
        {
          "execution_count": 59,
          "output_type": "execute_result",
          "data": {
            "text/plain": "2.784126314510936"
          },
          "metadata": {}
        }
      ],
      "execution_count": null
    },
    {
      "cell_type": "code",
      "source": [
        "RMSE = np.sqrt(MSE)"
      ],
      "metadata": {
        "execution": {
          "iopub.status.busy": "2024-10-29T11:55:31.587034Z",
          "iopub.execute_input": "2024-10-29T11:55:31.587557Z",
          "iopub.status.idle": "2024-10-29T11:55:31.593232Z",
          "shell.execute_reply.started": "2024-10-29T11:55:31.587511Z",
          "shell.execute_reply": "2024-10-29T11:55:31.591873Z"
        },
        "trusted": true,
        "id": "4gq1EZZE3BeK"
      },
      "outputs": [],
      "execution_count": null
    },
    {
      "cell_type": "code",
      "source": [
        "RMSE"
      ],
      "metadata": {
        "execution": {
          "iopub.status.busy": "2024-10-29T11:55:40.282521Z",
          "iopub.execute_input": "2024-10-29T11:55:40.283049Z",
          "iopub.status.idle": "2024-10-29T11:55:40.292218Z",
          "shell.execute_reply.started": "2024-10-29T11:55:40.283003Z",
          "shell.execute_reply": "2024-10-29T11:55:40.290818Z"
        },
        "trusted": true,
        "id": "IjuDDcSB3BeK",
        "outputId": "d53174f2-e2d4-4ff2-83e6-3155ea4870b8"
      },
      "outputs": [
        {
          "execution_count": 61,
          "output_type": "execute_result",
          "data": {
            "text/plain": "1.6685701407225697"
          },
          "metadata": {}
        }
      ],
      "execution_count": null
    },
    {
      "cell_type": "markdown",
      "source": [
        "**MODEL TUNİNG (MODEL DOĞRULAMA)**"
      ],
      "metadata": {
        "id": "O9uohwyY3BeK"
      }
    },
    {
      "cell_type": "code",
      "source": [
        "X.head()"
      ],
      "metadata": {
        "execution": {
          "iopub.status.busy": "2024-10-29T11:58:43.145549Z",
          "iopub.execute_input": "2024-10-29T11:58:43.146151Z",
          "iopub.status.idle": "2024-10-29T11:58:43.165419Z",
          "shell.execute_reply.started": "2024-10-29T11:58:43.146094Z",
          "shell.execute_reply": "2024-10-29T11:58:43.163951Z"
        },
        "trusted": true,
        "id": "2WkOyoII3BeK",
        "outputId": "4b847813-2757-4cea-f320-647c0761535a"
      },
      "outputs": [
        {
          "execution_count": 62,
          "output_type": "execute_result",
          "data": {
            "text/plain": "      TV  radio  newspaper\n0  230.1   37.8       69.2\n1   44.5   39.3       45.1\n2   17.2   45.9       69.3\n3  151.5   41.3       58.5\n4  180.8   10.8       58.4",
            "text/html": "<div>\n<style scoped>\n    .dataframe tbody tr th:only-of-type {\n        vertical-align: middle;\n    }\n\n    .dataframe tbody tr th {\n        vertical-align: top;\n    }\n\n    .dataframe thead th {\n        text-align: right;\n    }\n</style>\n<table border=\"1\" class=\"dataframe\">\n  <thead>\n    <tr style=\"text-align: right;\">\n      <th></th>\n      <th>TV</th>\n      <th>radio</th>\n      <th>newspaper</th>\n    </tr>\n  </thead>\n  <tbody>\n    <tr>\n      <th>0</th>\n      <td>230.1</td>\n      <td>37.8</td>\n      <td>69.2</td>\n    </tr>\n    <tr>\n      <th>1</th>\n      <td>44.5</td>\n      <td>39.3</td>\n      <td>45.1</td>\n    </tr>\n    <tr>\n      <th>2</th>\n      <td>17.2</td>\n      <td>45.9</td>\n      <td>69.3</td>\n    </tr>\n    <tr>\n      <th>3</th>\n      <td>151.5</td>\n      <td>41.3</td>\n      <td>58.5</td>\n    </tr>\n    <tr>\n      <th>4</th>\n      <td>180.8</td>\n      <td>10.8</td>\n      <td>58.4</td>\n    </tr>\n  </tbody>\n</table>\n</div>"
          },
          "metadata": {}
        }
      ],
      "execution_count": null
    },
    {
      "cell_type": "code",
      "source": [
        "y.head()"
      ],
      "metadata": {
        "execution": {
          "iopub.status.busy": "2024-10-29T11:58:49.699535Z",
          "iopub.execute_input": "2024-10-29T11:58:49.700882Z",
          "iopub.status.idle": "2024-10-29T11:58:49.714205Z",
          "shell.execute_reply.started": "2024-10-29T11:58:49.700751Z",
          "shell.execute_reply": "2024-10-29T11:58:49.712571Z"
        },
        "trusted": true,
        "id": "daIql4Yx3BeL",
        "outputId": "d02a60b2-69e9-49a9-f0dc-029fae918d68"
      },
      "outputs": [
        {
          "execution_count": 63,
          "output_type": "execute_result",
          "data": {
            "text/plain": "   sales\n0   22.1\n1   10.4\n2    9.3\n3   18.5\n4   12.9",
            "text/html": "<div>\n<style scoped>\n    .dataframe tbody tr th:only-of-type {\n        vertical-align: middle;\n    }\n\n    .dataframe tbody tr th {\n        vertical-align: top;\n    }\n\n    .dataframe thead th {\n        text-align: right;\n    }\n</style>\n<table border=\"1\" class=\"dataframe\">\n  <thead>\n    <tr style=\"text-align: right;\">\n      <th></th>\n      <th>sales</th>\n    </tr>\n  </thead>\n  <tbody>\n    <tr>\n      <th>0</th>\n      <td>22.1</td>\n    </tr>\n    <tr>\n      <th>1</th>\n      <td>10.4</td>\n    </tr>\n    <tr>\n      <th>2</th>\n      <td>9.3</td>\n    </tr>\n    <tr>\n      <th>3</th>\n      <td>18.5</td>\n    </tr>\n    <tr>\n      <th>4</th>\n      <td>12.9</td>\n    </tr>\n  </tbody>\n</table>\n</div>"
          },
          "metadata": {}
        }
      ],
      "execution_count": null
    },
    {
      "cell_type": "code",
      "source": [
        "# sinama seti"
      ],
      "metadata": {
        "execution": {
          "iopub.status.busy": "2024-10-29T11:59:11.410081Z",
          "iopub.execute_input": "2024-10-29T11:59:11.410538Z",
          "iopub.status.idle": "2024-10-29T11:59:11.417257Z",
          "shell.execute_reply.started": "2024-10-29T11:59:11.410493Z",
          "shell.execute_reply": "2024-10-29T11:59:11.415914Z"
        },
        "trusted": true,
        "id": "90RFZnwd3BeL"
      },
      "outputs": [],
      "execution_count": null
    },
    {
      "cell_type": "code",
      "source": [
        "from sklearn.model_selection import train_test_split"
      ],
      "metadata": {
        "execution": {
          "iopub.status.busy": "2024-10-29T11:59:50.730001Z",
          "iopub.execute_input": "2024-10-29T11:59:50.730478Z",
          "iopub.status.idle": "2024-10-29T11:59:50.737308Z",
          "shell.execute_reply.started": "2024-10-29T11:59:50.730434Z",
          "shell.execute_reply": "2024-10-29T11:59:50.735884Z"
        },
        "trusted": true,
        "id": "ephtjkBy3BeL"
      },
      "outputs": [],
      "execution_count": null
    },
    {
      "cell_type": "code",
      "source": [
        "X_train , X_test, y_train, y_test = train_test_split(X, y, test_size =0.20, random_state = 99 )"
      ],
      "metadata": {
        "execution": {
          "iopub.status.busy": "2024-10-29T12:02:29.964358Z",
          "iopub.execute_input": "2024-10-29T12:02:29.965331Z",
          "iopub.status.idle": "2024-10-29T12:02:29.980411Z",
          "shell.execute_reply.started": "2024-10-29T12:02:29.965281Z",
          "shell.execute_reply": "2024-10-29T12:02:29.975474Z"
        },
        "trusted": true,
        "id": "ldIrT7JE3BeL"
      },
      "outputs": [],
      "execution_count": null
    },
    {
      "cell_type": "code",
      "source": [
        "X_train.head()"
      ],
      "metadata": {
        "execution": {
          "iopub.status.busy": "2024-10-29T12:02:47.474936Z",
          "iopub.execute_input": "2024-10-29T12:02:47.475422Z",
          "iopub.status.idle": "2024-10-29T12:02:47.492426Z",
          "shell.execute_reply.started": "2024-10-29T12:02:47.475377Z",
          "shell.execute_reply": "2024-10-29T12:02:47.49099Z"
        },
        "trusted": true,
        "id": "re-tB9YE3BeL",
        "outputId": "9723336f-f224-42cc-c0d0-d689e3fbc5ed"
      },
      "outputs": [
        {
          "execution_count": 67,
          "output_type": "execute_result",
          "data": {
            "text/plain": "        TV  radio  newspaper\n16    67.8   36.6      114.0\n51   100.4    9.6        3.6\n97   184.9   21.0       22.0\n164  117.2   14.7        5.4\n71   109.8   14.3       31.7",
            "text/html": "<div>\n<style scoped>\n    .dataframe tbody tr th:only-of-type {\n        vertical-align: middle;\n    }\n\n    .dataframe tbody tr th {\n        vertical-align: top;\n    }\n\n    .dataframe thead th {\n        text-align: right;\n    }\n</style>\n<table border=\"1\" class=\"dataframe\">\n  <thead>\n    <tr style=\"text-align: right;\">\n      <th></th>\n      <th>TV</th>\n      <th>radio</th>\n      <th>newspaper</th>\n    </tr>\n  </thead>\n  <tbody>\n    <tr>\n      <th>16</th>\n      <td>67.8</td>\n      <td>36.6</td>\n      <td>114.0</td>\n    </tr>\n    <tr>\n      <th>51</th>\n      <td>100.4</td>\n      <td>9.6</td>\n      <td>3.6</td>\n    </tr>\n    <tr>\n      <th>97</th>\n      <td>184.9</td>\n      <td>21.0</td>\n      <td>22.0</td>\n    </tr>\n    <tr>\n      <th>164</th>\n      <td>117.2</td>\n      <td>14.7</td>\n      <td>5.4</td>\n    </tr>\n    <tr>\n      <th>71</th>\n      <td>109.8</td>\n      <td>14.3</td>\n      <td>31.7</td>\n    </tr>\n  </tbody>\n</table>\n</div>"
          },
          "metadata": {}
        }
      ],
      "execution_count": null
    },
    {
      "cell_type": "code",
      "source": [
        "X_test.head()"
      ],
      "metadata": {
        "execution": {
          "iopub.status.busy": "2024-10-29T12:03:01.402449Z",
          "iopub.execute_input": "2024-10-29T12:03:01.403041Z",
          "iopub.status.idle": "2024-10-29T12:03:01.42163Z",
          "shell.execute_reply.started": "2024-10-29T12:03:01.402984Z",
          "shell.execute_reply": "2024-10-29T12:03:01.420153Z"
        },
        "trusted": true,
        "id": "5ZqoV4913BeM",
        "outputId": "61751f68-1743-4da9-dad9-e7128d8c8bd8"
      },
      "outputs": [
        {
          "execution_count": 68,
          "output_type": "execute_result",
          "data": {
            "text/plain": "       TV  radio  newspaper\n135  48.3   47.0        8.5\n127  80.2    0.0        9.2\n191  75.5   10.8        6.0\n66   31.5   24.6        2.2\n119  19.4   16.0       22.3",
            "text/html": "<div>\n<style scoped>\n    .dataframe tbody tr th:only-of-type {\n        vertical-align: middle;\n    }\n\n    .dataframe tbody tr th {\n        vertical-align: top;\n    }\n\n    .dataframe thead th {\n        text-align: right;\n    }\n</style>\n<table border=\"1\" class=\"dataframe\">\n  <thead>\n    <tr style=\"text-align: right;\">\n      <th></th>\n      <th>TV</th>\n      <th>radio</th>\n      <th>newspaper</th>\n    </tr>\n  </thead>\n  <tbody>\n    <tr>\n      <th>135</th>\n      <td>48.3</td>\n      <td>47.0</td>\n      <td>8.5</td>\n    </tr>\n    <tr>\n      <th>127</th>\n      <td>80.2</td>\n      <td>0.0</td>\n      <td>9.2</td>\n    </tr>\n    <tr>\n      <th>191</th>\n      <td>75.5</td>\n      <td>10.8</td>\n      <td>6.0</td>\n    </tr>\n    <tr>\n      <th>66</th>\n      <td>31.5</td>\n      <td>24.6</td>\n      <td>2.2</td>\n    </tr>\n    <tr>\n      <th>119</th>\n      <td>19.4</td>\n      <td>16.0</td>\n      <td>22.3</td>\n    </tr>\n  </tbody>\n</table>\n</div>"
          },
          "metadata": {}
        }
      ],
      "execution_count": null
    },
    {
      "cell_type": "code",
      "source": [
        "y_train.head()"
      ],
      "metadata": {
        "execution": {
          "iopub.status.busy": "2024-10-29T12:03:08.874177Z",
          "iopub.execute_input": "2024-10-29T12:03:08.874726Z",
          "iopub.status.idle": "2024-10-29T12:03:08.886963Z",
          "shell.execute_reply.started": "2024-10-29T12:03:08.874675Z",
          "shell.execute_reply": "2024-10-29T12:03:08.885541Z"
        },
        "trusted": true,
        "id": "r2C8p8Oo3BeM",
        "outputId": "d77ca134-6a03-4d47-a4f7-e027c39d023d"
      },
      "outputs": [
        {
          "execution_count": 69,
          "output_type": "execute_result",
          "data": {
            "text/plain": "     sales\n16    12.5\n51    10.7\n97    15.5\n164   11.9\n71    12.4",
            "text/html": "<div>\n<style scoped>\n    .dataframe tbody tr th:only-of-type {\n        vertical-align: middle;\n    }\n\n    .dataframe tbody tr th {\n        vertical-align: top;\n    }\n\n    .dataframe thead th {\n        text-align: right;\n    }\n</style>\n<table border=\"1\" class=\"dataframe\">\n  <thead>\n    <tr style=\"text-align: right;\">\n      <th></th>\n      <th>sales</th>\n    </tr>\n  </thead>\n  <tbody>\n    <tr>\n      <th>16</th>\n      <td>12.5</td>\n    </tr>\n    <tr>\n      <th>51</th>\n      <td>10.7</td>\n    </tr>\n    <tr>\n      <th>97</th>\n      <td>15.5</td>\n    </tr>\n    <tr>\n      <th>164</th>\n      <td>11.9</td>\n    </tr>\n    <tr>\n      <th>71</th>\n      <td>12.4</td>\n    </tr>\n  </tbody>\n</table>\n</div>"
          },
          "metadata": {}
        }
      ],
      "execution_count": null
    },
    {
      "cell_type": "code",
      "source": [
        "y_test.head()"
      ],
      "metadata": {
        "execution": {
          "iopub.status.busy": "2024-10-29T12:03:24.651464Z",
          "iopub.execute_input": "2024-10-29T12:03:24.651983Z",
          "iopub.status.idle": "2024-10-29T12:03:24.664164Z",
          "shell.execute_reply.started": "2024-10-29T12:03:24.651937Z",
          "shell.execute_reply": "2024-10-29T12:03:24.662761Z"
        },
        "trusted": true,
        "id": "1H1DYXW63BeM",
        "outputId": "527d4388-706f-438e-e424-c27855aeba7a"
      },
      "outputs": [
        {
          "execution_count": 71,
          "output_type": "execute_result",
          "data": {
            "text/plain": "     sales\n135   11.6\n127    8.8\n191    9.9\n66     9.5\n119    6.6",
            "text/html": "<div>\n<style scoped>\n    .dataframe tbody tr th:only-of-type {\n        vertical-align: middle;\n    }\n\n    .dataframe tbody tr th {\n        vertical-align: top;\n    }\n\n    .dataframe thead th {\n        text-align: right;\n    }\n</style>\n<table border=\"1\" class=\"dataframe\">\n  <thead>\n    <tr style=\"text-align: right;\">\n      <th></th>\n      <th>sales</th>\n    </tr>\n  </thead>\n  <tbody>\n    <tr>\n      <th>135</th>\n      <td>11.6</td>\n    </tr>\n    <tr>\n      <th>127</th>\n      <td>8.8</td>\n    </tr>\n    <tr>\n      <th>191</th>\n      <td>9.9</td>\n    </tr>\n    <tr>\n      <th>66</th>\n      <td>9.5</td>\n    </tr>\n    <tr>\n      <th>119</th>\n      <td>6.6</td>\n    </tr>\n  </tbody>\n</table>\n</div>"
          },
          "metadata": {}
        }
      ],
      "execution_count": null
    },
    {
      "cell_type": "code",
      "source": [
        "lm = LinearRegression()\n",
        "model = lm.fit(X_train,y_train)"
      ],
      "metadata": {
        "execution": {
          "iopub.status.busy": "2024-10-29T12:06:54.474062Z",
          "iopub.execute_input": "2024-10-29T12:06:54.474583Z",
          "iopub.status.idle": "2024-10-29T12:06:54.490909Z",
          "shell.execute_reply.started": "2024-10-29T12:06:54.474529Z",
          "shell.execute_reply": "2024-10-29T12:06:54.489464Z"
        },
        "trusted": true,
        "id": "y6jEW0nA3BeM"
      },
      "outputs": [],
      "execution_count": null
    },
    {
      "cell_type": "code",
      "source": [
        "#eğitim hatası\n",
        "np.sqrt(mean_squared_error(y_train , model.predict(X_train)))"
      ],
      "metadata": {
        "execution": {
          "iopub.status.busy": "2024-10-29T12:07:54.469315Z",
          "iopub.execute_input": "2024-10-29T12:07:54.469854Z",
          "iopub.status.idle": "2024-10-29T12:07:54.485465Z",
          "shell.execute_reply.started": "2024-10-29T12:07:54.469805Z",
          "shell.execute_reply": "2024-10-29T12:07:54.483623Z"
        },
        "trusted": true,
        "id": "Abgf9xpW3BeM",
        "outputId": "a60c3759-dcc7-4bdc-9778-219e6c5b7e43"
      },
      "outputs": [
        {
          "execution_count": 73,
          "output_type": "execute_result",
          "data": {
            "text/plain": "1.7236824822650754"
          },
          "metadata": {}
        }
      ],
      "execution_count": null
    },
    {
      "cell_type": "code",
      "source": [
        "#test hatası\n",
        "np.sqrt(mean_squared_error(y_test , model.predict(X_test)))"
      ],
      "metadata": {
        "execution": {
          "iopub.status.busy": "2024-10-29T12:08:24.988169Z",
          "iopub.execute_input": "2024-10-29T12:08:24.988648Z",
          "iopub.status.idle": "2024-10-29T12:08:25.002882Z",
          "shell.execute_reply.started": "2024-10-29T12:08:24.988597Z",
          "shell.execute_reply": "2024-10-29T12:08:25.001158Z"
        },
        "trusted": true,
        "id": "jlriYsWN3BeM",
        "outputId": "fcc53796-983a-470d-ab8e-65848f4ba615"
      },
      "outputs": [
        {
          "execution_count": 74,
          "output_type": "execute_result",
          "data": {
            "text/plain": "1.4312783138301641"
          },
          "metadata": {}
        }
      ],
      "execution_count": null
    },
    {
      "cell_type": "code",
      "source": [
        "#k-katlı cv"
      ],
      "metadata": {
        "execution": {
          "iopub.status.busy": "2024-10-29T12:09:06.561215Z",
          "iopub.execute_input": "2024-10-29T12:09:06.561676Z",
          "iopub.status.idle": "2024-10-29T12:09:06.569577Z",
          "shell.execute_reply.started": "2024-10-29T12:09:06.561635Z",
          "shell.execute_reply": "2024-10-29T12:09:06.567942Z"
        },
        "trusted": true,
        "id": "c2WT9Ich3BeM"
      },
      "outputs": [],
      "execution_count": null
    },
    {
      "cell_type": "code",
      "source": [
        "from sklearn.model_selection import cross_val_score"
      ],
      "metadata": {
        "execution": {
          "iopub.status.busy": "2024-10-29T12:09:19.564243Z",
          "iopub.execute_input": "2024-10-29T12:09:19.565246Z",
          "iopub.status.idle": "2024-10-29T12:09:19.573309Z",
          "shell.execute_reply.started": "2024-10-29T12:09:19.565175Z",
          "shell.execute_reply": "2024-10-29T12:09:19.570741Z"
        },
        "trusted": true,
        "id": "auwABBlW3BeN"
      },
      "outputs": [],
      "execution_count": null
    },
    {
      "cell_type": "code",
      "source": [
        "cross_val_score(model, X_train, y_train, cv=10, scoring = \"neg_mean_squared_error\")"
      ],
      "metadata": {
        "execution": {
          "iopub.status.busy": "2024-10-29T12:12:51.960281Z",
          "iopub.execute_input": "2024-10-29T12:12:51.960766Z",
          "iopub.status.idle": "2024-10-29T12:12:52.067204Z",
          "shell.execute_reply.started": "2024-10-29T12:12:51.960724Z",
          "shell.execute_reply": "2024-10-29T12:12:52.065819Z"
        },
        "trusted": true,
        "id": "DT_RsEHy3BeN",
        "outputId": "c5e4dde5-31d8-4832-f730-43234271649d"
      },
      "outputs": [
        {
          "execution_count": 77,
          "output_type": "execute_result",
          "data": {
            "text/plain": "array([-2.1019073 , -2.48953197, -3.09704214, -2.34694216, -3.68175761,\n       -1.8691401 , -3.18173007, -4.1927349 , -2.17128376, -8.03821974])"
          },
          "metadata": {}
        }
      ],
      "execution_count": null
    },
    {
      "cell_type": "code",
      "source": [
        "#cv mse\n",
        "np.mean(-cross_val_score(model, X_train, y_train, cv=10, scoring = \"neg_mean_squared_error\"))"
      ],
      "metadata": {
        "execution": {
          "iopub.status.busy": "2024-10-29T12:13:57.226698Z",
          "iopub.execute_input": "2024-10-29T12:13:57.227216Z",
          "iopub.status.idle": "2024-10-29T12:13:57.30913Z",
          "shell.execute_reply.started": "2024-10-29T12:13:57.227171Z",
          "shell.execute_reply": "2024-10-29T12:13:57.307865Z"
        },
        "trusted": true,
        "id": "bcLSrQ2o3BeN",
        "outputId": "c7b5aad5-91c4-497e-dc95-e7a311f5e354"
      },
      "outputs": [
        {
          "execution_count": 79,
          "output_type": "execute_result",
          "data": {
            "text/plain": "3.3170289742341246"
          },
          "metadata": {}
        }
      ],
      "execution_count": null
    },
    {
      "cell_type": "code",
      "source": [
        "#cv rmse\n",
        "np.sqrt(np.mean(-cross_val_score(model, X_train, y_train, cv=10, scoring = \"neg_mean_squared_error\")))"
      ],
      "metadata": {
        "execution": {
          "iopub.status.busy": "2024-10-29T12:14:33.02657Z",
          "iopub.execute_input": "2024-10-29T12:14:33.027684Z",
          "iopub.status.idle": "2024-10-29T12:14:33.119001Z",
          "shell.execute_reply.started": "2024-10-29T12:14:33.027636Z",
          "shell.execute_reply": "2024-10-29T12:14:33.117374Z"
        },
        "trusted": true,
        "id": "SCyjFqdo3BeN",
        "outputId": "747c0a1f-19b4-4e93-d63d-f1c44864d510"
      },
      "outputs": [
        {
          "execution_count": 80,
          "output_type": "execute_result",
          "data": {
            "text/plain": "1.8212712522395242"
          },
          "metadata": {}
        }
      ],
      "execution_count": null
    },
    {
      "cell_type": "code",
      "source": [
        "np.sqrt(np.mean(-cross_val_score(model, X, y, cv=10, scoring = \"neg_mean_squared_error\")))"
      ],
      "metadata": {
        "execution": {
          "iopub.status.busy": "2024-10-29T12:14:59.476247Z",
          "iopub.execute_input": "2024-10-29T12:14:59.476703Z",
          "iopub.status.idle": "2024-10-29T12:14:59.565537Z",
          "shell.execute_reply.started": "2024-10-29T12:14:59.476659Z",
          "shell.execute_reply": "2024-10-29T12:14:59.56377Z"
        },
        "trusted": true,
        "id": "mGveW_-p3BeN",
        "outputId": "1f06240b-c761-4f97-fc13-e781c3a39c2e"
      },
      "outputs": [
        {
          "execution_count": 81,
          "output_type": "execute_result",
          "data": {
            "text/plain": "1.749276312684338"
          },
          "metadata": {}
        }
      ],
      "execution_count": null
    },
    {
      "cell_type": "code",
      "source": [
        "np.sqrt(np.mean(-cross_val_score(model, X_test, y_test, cv=10, scoring = \"neg_mean_squared_error\")))"
      ],
      "metadata": {
        "execution": {
          "iopub.status.busy": "2024-10-29T12:15:14.074947Z",
          "iopub.execute_input": "2024-10-29T12:15:14.075392Z",
          "iopub.status.idle": "2024-10-29T12:15:14.162123Z",
          "shell.execute_reply.started": "2024-10-29T12:15:14.075351Z",
          "shell.execute_reply": "2024-10-29T12:15:14.160412Z"
        },
        "trusted": true,
        "id": "XDcb8LgF3BeN",
        "outputId": "2c021a6f-6267-4c1f-9fbe-a6b94bd6b86e"
      },
      "outputs": [
        {
          "execution_count": 82,
          "output_type": "execute_result",
          "data": {
            "text/plain": "1.5797892652529864"
          },
          "metadata": {}
        }
      ],
      "execution_count": null
    },
    {
      "cell_type": "code",
      "source": [],
      "metadata": {
        "id": "3KsZm7yD3BeN"
      },
      "outputs": [],
      "execution_count": null
    }
  ]
}