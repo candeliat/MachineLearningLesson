{
  "metadata": {
    "kernelspec": {
      "language": "python",
      "display_name": "Python 3",
      "name": "python3"
    },
    "language_info": {
      "name": "python",
      "version": "3.10.14",
      "mimetype": "text/x-python",
      "codemirror_mode": {
        "name": "ipython",
        "version": 3
      },
      "pygments_lexer": "ipython3",
      "nbconvert_exporter": "python",
      "file_extension": ".py"
    },
    "kaggle": {
      "accelerator": "none",
      "dataSources": [
        {
          "sourceId": 9754871,
          "sourceType": "datasetVersion",
          "datasetId": 5972785
        }
      ],
      "dockerImageVersionId": 30786,
      "isInternetEnabled": false,
      "language": "python",
      "sourceType": "notebook",
      "isGpuEnabled": false
    },
    "colab": {
      "name": "MachineLearningKa",
      "provenance": [],
      "include_colab_link": true
    }
  },
  "nbformat_minor": 0,
  "nbformat": 4,
  "cells": [
    {
      "cell_type": "markdown",
      "metadata": {
        "id": "view-in-github",
        "colab_type": "text"
      },
      "source": [
        "<a href=\"https://colab.research.google.com/github/candeliat/MachineLearningLesson/blob/main/MachineLearningKa.ipynb\" target=\"_parent\"><img src=\"https://colab.research.google.com/assets/colab-badge.svg\" alt=\"Open In Colab\"/></a>"
      ]
    },
    {
      "source": [
        "# IMPORTANT: SOME KAGGLE DATA SOURCES ARE PRIVATE\n",
        "# RUN THIS CELL IN ORDER TO IMPORT YOUR KAGGLE DATA SOURCES.\n",
        "import kagglehub\n",
        "kagglehub.login()\n"
      ],
      "metadata": {
        "id": "brjBidrp2a9Y"
      },
      "cell_type": "code",
      "outputs": [],
      "execution_count": null
    },
    {
      "source": [
        "# IMPORTANT: RUN THIS CELL IN ORDER TO IMPORT YOUR KAGGLE DATA SOURCES,\n",
        "# THEN FEEL FREE TO DELETE THIS CELL.\n",
        "# NOTE: THIS NOTEBOOK ENVIRONMENT DIFFERS FROM KAGGLE'S PYTHON\n",
        "# ENVIRONMENT SO THERE MAY BE MISSING LIBRARIES USED BY YOUR\n",
        "# NOTEBOOK.\n",
        "\n",
        "abdullahcandeliat_hittersdataset_path = kagglehub.dataset_download('abdullahcandeliat/hittersdataset')\n",
        "\n",
        "print('Data source import complete.')\n"
      ],
      "metadata": {
        "id": "VyJVCcoI2a9a"
      },
      "cell_type": "code",
      "outputs": [],
      "execution_count": null
    },
    {
      "cell_type": "code",
      "source": [
        "# This Python 3 environment comes with many helpful analytics libraries installed\n",
        "# It is defined by the kaggle/python Docker image: https://github.com/kaggle/docker-python\n",
        "# For example, here's several helpful packages to load\n",
        "\n",
        "import numpy as np # linear algebra\n",
        "import pandas as pd # data processing, CSV file I/O (e.g. pd.read_csv)\n",
        "\n",
        "# Input data files are available in the read-only \"../input/\" directory\n",
        "# For example, running this (by clicking run or pressing Shift+Enter) will list all files under the input directory\n",
        "\n",
        "import os\n",
        "for dirname, _, filenames in os.walk('/kaggle/input'):\n",
        "    for filename in filenames:\n",
        "        print(os.path.join(dirname, filename))\n",
        "\n",
        "# You can write up to 20GB to the current directory (/kaggle/working/) that gets preserved as output when you create a version using \"Save & Run All\"\n",
        "# You can also write temporary files to /kaggle/temp/, but they won't be saved outside of the current session"
      ],
      "metadata": {
        "_uuid": "8f2839f25d086af736a60e9eeb907d3b93b6e0e5",
        "_cell_guid": "b1076dfc-b9ad-4769-8c92-a6c4dae69d19",
        "execution": {
          "iopub.status.busy": "2024-10-29T14:34:55.273959Z",
          "iopub.execute_input": "2024-10-29T14:34:55.27441Z",
          "iopub.status.idle": "2024-10-29T14:34:55.287599Z",
          "shell.execute_reply.started": "2024-10-29T14:34:55.274367Z",
          "shell.execute_reply": "2024-10-29T14:34:55.286251Z"
        },
        "trusted": true,
        "id": "9b7KlAdi2a9b",
        "outputId": "10cd83dd-7e4d-495f-cea8-f8030749d127"
      },
      "outputs": [
        {
          "name": "stdout",
          "text": "/kaggle/input/hittersdataset/Hitters.csv\n",
          "output_type": "stream"
        }
      ],
      "execution_count": null
    },
    {
      "cell_type": "markdown",
      "source": [
        "**RİDGE REGRESSİON**"
      ],
      "metadata": {
        "id": "3QEXSz1h2a9b"
      }
    },
    {
      "cell_type": "code",
      "source": [
        "df = pd.read_csv(\"/kaggle/input/hittersdataset/Hitters.csv\")\n",
        "df = df.iloc[:,1:len(df)]\n",
        "df.head()"
      ],
      "metadata": {
        "execution": {
          "iopub.status.busy": "2024-10-29T14:34:55.293278Z",
          "iopub.execute_input": "2024-10-29T14:34:55.29371Z",
          "iopub.status.idle": "2024-10-29T14:34:55.320956Z",
          "shell.execute_reply.started": "2024-10-29T14:34:55.293667Z",
          "shell.execute_reply": "2024-10-29T14:34:55.319804Z"
        },
        "trusted": true,
        "id": "TcNbDhJX2a9c",
        "outputId": "38ff3958-acda-4206-f88a-e68f6b499f26"
      },
      "outputs": [
        {
          "execution_count": 38,
          "output_type": "execute_result",
          "data": {
            "text/plain": "   Hits  HmRun  Runs  RBI  Walks  Years  CAtBat  CHits  CHmRun  CRuns  CRBI  \\\n0    66      1    30   29     14      1     293     66       1     30    29   \n1    81      7    24   38     39     14    3449    835      69    321   414   \n2   130     18    66   72     76      3    1624    457      63    224   266   \n3   141     20    65   78     37     11    5628   1575     225    828   838   \n4    87     10    39   42     30      2     396    101      12     48    46   \n\n   CWalks League Division  PutOuts  Assists  Errors  Salary NewLeague  \n0      14      A        E      446       33      20     NaN         A  \n1     375      N        W      632       43      10   475.0         N  \n2     263      A        W      880       82      14   480.0         A  \n3     354      N        E      200       11       3   500.0         N  \n4      33      N        E      805       40       4    91.5         N  ",
            "text/html": "<div>\n<style scoped>\n    .dataframe tbody tr th:only-of-type {\n        vertical-align: middle;\n    }\n\n    .dataframe tbody tr th {\n        vertical-align: top;\n    }\n\n    .dataframe thead th {\n        text-align: right;\n    }\n</style>\n<table border=\"1\" class=\"dataframe\">\n  <thead>\n    <tr style=\"text-align: right;\">\n      <th></th>\n      <th>Hits</th>\n      <th>HmRun</th>\n      <th>Runs</th>\n      <th>RBI</th>\n      <th>Walks</th>\n      <th>Years</th>\n      <th>CAtBat</th>\n      <th>CHits</th>\n      <th>CHmRun</th>\n      <th>CRuns</th>\n      <th>CRBI</th>\n      <th>CWalks</th>\n      <th>League</th>\n      <th>Division</th>\n      <th>PutOuts</th>\n      <th>Assists</th>\n      <th>Errors</th>\n      <th>Salary</th>\n      <th>NewLeague</th>\n    </tr>\n  </thead>\n  <tbody>\n    <tr>\n      <th>0</th>\n      <td>66</td>\n      <td>1</td>\n      <td>30</td>\n      <td>29</td>\n      <td>14</td>\n      <td>1</td>\n      <td>293</td>\n      <td>66</td>\n      <td>1</td>\n      <td>30</td>\n      <td>29</td>\n      <td>14</td>\n      <td>A</td>\n      <td>E</td>\n      <td>446</td>\n      <td>33</td>\n      <td>20</td>\n      <td>NaN</td>\n      <td>A</td>\n    </tr>\n    <tr>\n      <th>1</th>\n      <td>81</td>\n      <td>7</td>\n      <td>24</td>\n      <td>38</td>\n      <td>39</td>\n      <td>14</td>\n      <td>3449</td>\n      <td>835</td>\n      <td>69</td>\n      <td>321</td>\n      <td>414</td>\n      <td>375</td>\n      <td>N</td>\n      <td>W</td>\n      <td>632</td>\n      <td>43</td>\n      <td>10</td>\n      <td>475.0</td>\n      <td>N</td>\n    </tr>\n    <tr>\n      <th>2</th>\n      <td>130</td>\n      <td>18</td>\n      <td>66</td>\n      <td>72</td>\n      <td>76</td>\n      <td>3</td>\n      <td>1624</td>\n      <td>457</td>\n      <td>63</td>\n      <td>224</td>\n      <td>266</td>\n      <td>263</td>\n      <td>A</td>\n      <td>W</td>\n      <td>880</td>\n      <td>82</td>\n      <td>14</td>\n      <td>480.0</td>\n      <td>A</td>\n    </tr>\n    <tr>\n      <th>3</th>\n      <td>141</td>\n      <td>20</td>\n      <td>65</td>\n      <td>78</td>\n      <td>37</td>\n      <td>11</td>\n      <td>5628</td>\n      <td>1575</td>\n      <td>225</td>\n      <td>828</td>\n      <td>838</td>\n      <td>354</td>\n      <td>N</td>\n      <td>E</td>\n      <td>200</td>\n      <td>11</td>\n      <td>3</td>\n      <td>500.0</td>\n      <td>N</td>\n    </tr>\n    <tr>\n      <th>4</th>\n      <td>87</td>\n      <td>10</td>\n      <td>39</td>\n      <td>42</td>\n      <td>30</td>\n      <td>2</td>\n      <td>396</td>\n      <td>101</td>\n      <td>12</td>\n      <td>48</td>\n      <td>46</td>\n      <td>33</td>\n      <td>N</td>\n      <td>E</td>\n      <td>805</td>\n      <td>40</td>\n      <td>4</td>\n      <td>91.5</td>\n      <td>N</td>\n    </tr>\n  </tbody>\n</table>\n</div>"
          },
          "metadata": {}
        }
      ],
      "execution_count": null
    },
    {
      "cell_type": "markdown",
      "source": [
        "GEREKLİ KÜTÜPHANELER"
      ],
      "metadata": {
        "id": "OmUEWHKF2a9c"
      }
    },
    {
      "cell_type": "code",
      "source": [
        "from sklearn.linear_model import Ridge\n",
        "from sklearn.metrics import mean_squared_error,r2_score\n",
        "from sklearn.model_selection import train_test_split\n",
        "from sklearn import model_selection\n",
        "import matplotlib.pyplot as plt\n",
        "from sklearn.linear_model import RidgeCV"
      ],
      "metadata": {
        "execution": {
          "iopub.status.busy": "2024-10-29T14:34:55.323036Z",
          "iopub.execute_input": "2024-10-29T14:34:55.323414Z",
          "iopub.status.idle": "2024-10-29T14:34:55.331018Z",
          "shell.execute_reply.started": "2024-10-29T14:34:55.323372Z",
          "shell.execute_reply": "2024-10-29T14:34:55.329698Z"
        },
        "trusted": true,
        "id": "3s_ZPTlv2a9d"
      },
      "outputs": [],
      "execution_count": null
    },
    {
      "cell_type": "code",
      "source": [
        "df = df.dropna()"
      ],
      "metadata": {
        "execution": {
          "iopub.status.busy": "2024-10-29T14:34:55.332706Z",
          "iopub.execute_input": "2024-10-29T14:34:55.333209Z",
          "iopub.status.idle": "2024-10-29T14:34:55.348987Z",
          "shell.execute_reply.started": "2024-10-29T14:34:55.333152Z",
          "shell.execute_reply": "2024-10-29T14:34:55.347571Z"
        },
        "trusted": true,
        "id": "dajdrAHH2a9d"
      },
      "outputs": [],
      "execution_count": null
    },
    {
      "cell_type": "code",
      "source": [
        "df"
      ],
      "metadata": {
        "execution": {
          "iopub.status.busy": "2024-10-29T14:34:55.351373Z",
          "iopub.execute_input": "2024-10-29T14:34:55.351835Z",
          "iopub.status.idle": "2024-10-29T14:34:55.380374Z",
          "shell.execute_reply.started": "2024-10-29T14:34:55.351792Z",
          "shell.execute_reply": "2024-10-29T14:34:55.379148Z"
        },
        "trusted": true,
        "id": "VY4bQ2Qp2a9e",
        "outputId": "8bc0ca3f-c327-430e-b6a8-b59ec9e0090d"
      },
      "outputs": [
        {
          "execution_count": 41,
          "output_type": "execute_result",
          "data": {
            "text/plain": "     Hits  HmRun  Runs  RBI  Walks  Years  CAtBat  CHits  CHmRun  CRuns  CRBI  \\\n1      81      7    24   38     39     14    3449    835      69    321   414   \n2     130     18    66   72     76      3    1624    457      63    224   266   \n3     141     20    65   78     37     11    5628   1575     225    828   838   \n4      87     10    39   42     30      2     396    101      12     48    46   \n5     169      4    74   51     35     11    4408   1133      19    501   336   \n..    ...    ...   ...  ...    ...    ...     ...    ...     ...    ...   ...   \n317   127      7    65   48     37      5    2703    806      32    379   311   \n318   136      5    76   50     94     12    5511   1511      39    897   451   \n319   126      3    61   43     52      6    1700    433       7    217    93   \n320   144      9    85   60     78      8    3198    857      97    470   420   \n321   170      9    77   44     31     11    4908   1457      30    775   357   \n\n     CWalks League Division  PutOuts  Assists  Errors  Salary NewLeague  \n1       375      N        W      632       43      10   475.0         N  \n2       263      A        W      880       82      14   480.0         A  \n3       354      N        E      200       11       3   500.0         N  \n4        33      N        E      805       40       4    91.5         N  \n5       194      A        W      282      421      25   750.0         A  \n..      ...    ...      ...      ...      ...     ...     ...       ...  \n317     138      N        E      325        9       3   700.0         N  \n318     875      A        E      313      381      20   875.0         A  \n319     146      A        W       37      113       7   385.0         A  \n320     332      A        E     1314      131      12   960.0         A  \n321     249      A        W      408        4       3  1000.0         A  \n\n[263 rows x 19 columns]",
            "text/html": "<div>\n<style scoped>\n    .dataframe tbody tr th:only-of-type {\n        vertical-align: middle;\n    }\n\n    .dataframe tbody tr th {\n        vertical-align: top;\n    }\n\n    .dataframe thead th {\n        text-align: right;\n    }\n</style>\n<table border=\"1\" class=\"dataframe\">\n  <thead>\n    <tr style=\"text-align: right;\">\n      <th></th>\n      <th>Hits</th>\n      <th>HmRun</th>\n      <th>Runs</th>\n      <th>RBI</th>\n      <th>Walks</th>\n      <th>Years</th>\n      <th>CAtBat</th>\n      <th>CHits</th>\n      <th>CHmRun</th>\n      <th>CRuns</th>\n      <th>CRBI</th>\n      <th>CWalks</th>\n      <th>League</th>\n      <th>Division</th>\n      <th>PutOuts</th>\n      <th>Assists</th>\n      <th>Errors</th>\n      <th>Salary</th>\n      <th>NewLeague</th>\n    </tr>\n  </thead>\n  <tbody>\n    <tr>\n      <th>1</th>\n      <td>81</td>\n      <td>7</td>\n      <td>24</td>\n      <td>38</td>\n      <td>39</td>\n      <td>14</td>\n      <td>3449</td>\n      <td>835</td>\n      <td>69</td>\n      <td>321</td>\n      <td>414</td>\n      <td>375</td>\n      <td>N</td>\n      <td>W</td>\n      <td>632</td>\n      <td>43</td>\n      <td>10</td>\n      <td>475.0</td>\n      <td>N</td>\n    </tr>\n    <tr>\n      <th>2</th>\n      <td>130</td>\n      <td>18</td>\n      <td>66</td>\n      <td>72</td>\n      <td>76</td>\n      <td>3</td>\n      <td>1624</td>\n      <td>457</td>\n      <td>63</td>\n      <td>224</td>\n      <td>266</td>\n      <td>263</td>\n      <td>A</td>\n      <td>W</td>\n      <td>880</td>\n      <td>82</td>\n      <td>14</td>\n      <td>480.0</td>\n      <td>A</td>\n    </tr>\n    <tr>\n      <th>3</th>\n      <td>141</td>\n      <td>20</td>\n      <td>65</td>\n      <td>78</td>\n      <td>37</td>\n      <td>11</td>\n      <td>5628</td>\n      <td>1575</td>\n      <td>225</td>\n      <td>828</td>\n      <td>838</td>\n      <td>354</td>\n      <td>N</td>\n      <td>E</td>\n      <td>200</td>\n      <td>11</td>\n      <td>3</td>\n      <td>500.0</td>\n      <td>N</td>\n    </tr>\n    <tr>\n      <th>4</th>\n      <td>87</td>\n      <td>10</td>\n      <td>39</td>\n      <td>42</td>\n      <td>30</td>\n      <td>2</td>\n      <td>396</td>\n      <td>101</td>\n      <td>12</td>\n      <td>48</td>\n      <td>46</td>\n      <td>33</td>\n      <td>N</td>\n      <td>E</td>\n      <td>805</td>\n      <td>40</td>\n      <td>4</td>\n      <td>91.5</td>\n      <td>N</td>\n    </tr>\n    <tr>\n      <th>5</th>\n      <td>169</td>\n      <td>4</td>\n      <td>74</td>\n      <td>51</td>\n      <td>35</td>\n      <td>11</td>\n      <td>4408</td>\n      <td>1133</td>\n      <td>19</td>\n      <td>501</td>\n      <td>336</td>\n      <td>194</td>\n      <td>A</td>\n      <td>W</td>\n      <td>282</td>\n      <td>421</td>\n      <td>25</td>\n      <td>750.0</td>\n      <td>A</td>\n    </tr>\n    <tr>\n      <th>...</th>\n      <td>...</td>\n      <td>...</td>\n      <td>...</td>\n      <td>...</td>\n      <td>...</td>\n      <td>...</td>\n      <td>...</td>\n      <td>...</td>\n      <td>...</td>\n      <td>...</td>\n      <td>...</td>\n      <td>...</td>\n      <td>...</td>\n      <td>...</td>\n      <td>...</td>\n      <td>...</td>\n      <td>...</td>\n      <td>...</td>\n      <td>...</td>\n    </tr>\n    <tr>\n      <th>317</th>\n      <td>127</td>\n      <td>7</td>\n      <td>65</td>\n      <td>48</td>\n      <td>37</td>\n      <td>5</td>\n      <td>2703</td>\n      <td>806</td>\n      <td>32</td>\n      <td>379</td>\n      <td>311</td>\n      <td>138</td>\n      <td>N</td>\n      <td>E</td>\n      <td>325</td>\n      <td>9</td>\n      <td>3</td>\n      <td>700.0</td>\n      <td>N</td>\n    </tr>\n    <tr>\n      <th>318</th>\n      <td>136</td>\n      <td>5</td>\n      <td>76</td>\n      <td>50</td>\n      <td>94</td>\n      <td>12</td>\n      <td>5511</td>\n      <td>1511</td>\n      <td>39</td>\n      <td>897</td>\n      <td>451</td>\n      <td>875</td>\n      <td>A</td>\n      <td>E</td>\n      <td>313</td>\n      <td>381</td>\n      <td>20</td>\n      <td>875.0</td>\n      <td>A</td>\n    </tr>\n    <tr>\n      <th>319</th>\n      <td>126</td>\n      <td>3</td>\n      <td>61</td>\n      <td>43</td>\n      <td>52</td>\n      <td>6</td>\n      <td>1700</td>\n      <td>433</td>\n      <td>7</td>\n      <td>217</td>\n      <td>93</td>\n      <td>146</td>\n      <td>A</td>\n      <td>W</td>\n      <td>37</td>\n      <td>113</td>\n      <td>7</td>\n      <td>385.0</td>\n      <td>A</td>\n    </tr>\n    <tr>\n      <th>320</th>\n      <td>144</td>\n      <td>9</td>\n      <td>85</td>\n      <td>60</td>\n      <td>78</td>\n      <td>8</td>\n      <td>3198</td>\n      <td>857</td>\n      <td>97</td>\n      <td>470</td>\n      <td>420</td>\n      <td>332</td>\n      <td>A</td>\n      <td>E</td>\n      <td>1314</td>\n      <td>131</td>\n      <td>12</td>\n      <td>960.0</td>\n      <td>A</td>\n    </tr>\n    <tr>\n      <th>321</th>\n      <td>170</td>\n      <td>9</td>\n      <td>77</td>\n      <td>44</td>\n      <td>31</td>\n      <td>11</td>\n      <td>4908</td>\n      <td>1457</td>\n      <td>30</td>\n      <td>775</td>\n      <td>357</td>\n      <td>249</td>\n      <td>A</td>\n      <td>W</td>\n      <td>408</td>\n      <td>4</td>\n      <td>3</td>\n      <td>1000.0</td>\n      <td>A</td>\n    </tr>\n  </tbody>\n</table>\n<p>263 rows × 19 columns</p>\n</div>"
          },
          "metadata": {}
        }
      ],
      "execution_count": null
    },
    {
      "cell_type": "code",
      "source": [
        "dms = pd.get_dummies(df[['League','Division','NewLeague']])"
      ],
      "metadata": {
        "execution": {
          "iopub.status.busy": "2024-10-29T14:34:55.382105Z",
          "iopub.execute_input": "2024-10-29T14:34:55.382515Z",
          "iopub.status.idle": "2024-10-29T14:34:55.395129Z",
          "shell.execute_reply.started": "2024-10-29T14:34:55.382447Z",
          "shell.execute_reply": "2024-10-29T14:34:55.393376Z"
        },
        "trusted": true,
        "id": "DFrcQpjL2a9f"
      },
      "outputs": [],
      "execution_count": null
    },
    {
      "cell_type": "code",
      "source": [
        "dms"
      ],
      "metadata": {
        "execution": {
          "iopub.status.busy": "2024-10-29T14:34:55.39675Z",
          "iopub.execute_input": "2024-10-29T14:34:55.397166Z",
          "iopub.status.idle": "2024-10-29T14:34:55.420421Z",
          "shell.execute_reply.started": "2024-10-29T14:34:55.397124Z",
          "shell.execute_reply": "2024-10-29T14:34:55.418858Z"
        },
        "trusted": true,
        "id": "3kLqfbrY2a9f",
        "outputId": "b0ec0f61-bf05-4eda-f730-54e9c4723e06"
      },
      "outputs": [
        {
          "execution_count": 43,
          "output_type": "execute_result",
          "data": {
            "text/plain": "     League_A  League_N  Division_E  Division_W  NewLeague_A  NewLeague_N\n1       False      True       False        True        False         True\n2        True     False       False        True         True        False\n3       False      True        True       False        False         True\n4       False      True        True       False        False         True\n5        True     False       False        True         True        False\n..        ...       ...         ...         ...          ...          ...\n317     False      True        True       False        False         True\n318      True     False        True       False         True        False\n319      True     False       False        True         True        False\n320      True     False        True       False         True        False\n321      True     False       False        True         True        False\n\n[263 rows x 6 columns]",
            "text/html": "<div>\n<style scoped>\n    .dataframe tbody tr th:only-of-type {\n        vertical-align: middle;\n    }\n\n    .dataframe tbody tr th {\n        vertical-align: top;\n    }\n\n    .dataframe thead th {\n        text-align: right;\n    }\n</style>\n<table border=\"1\" class=\"dataframe\">\n  <thead>\n    <tr style=\"text-align: right;\">\n      <th></th>\n      <th>League_A</th>\n      <th>League_N</th>\n      <th>Division_E</th>\n      <th>Division_W</th>\n      <th>NewLeague_A</th>\n      <th>NewLeague_N</th>\n    </tr>\n  </thead>\n  <tbody>\n    <tr>\n      <th>1</th>\n      <td>False</td>\n      <td>True</td>\n      <td>False</td>\n      <td>True</td>\n      <td>False</td>\n      <td>True</td>\n    </tr>\n    <tr>\n      <th>2</th>\n      <td>True</td>\n      <td>False</td>\n      <td>False</td>\n      <td>True</td>\n      <td>True</td>\n      <td>False</td>\n    </tr>\n    <tr>\n      <th>3</th>\n      <td>False</td>\n      <td>True</td>\n      <td>True</td>\n      <td>False</td>\n      <td>False</td>\n      <td>True</td>\n    </tr>\n    <tr>\n      <th>4</th>\n      <td>False</td>\n      <td>True</td>\n      <td>True</td>\n      <td>False</td>\n      <td>False</td>\n      <td>True</td>\n    </tr>\n    <tr>\n      <th>5</th>\n      <td>True</td>\n      <td>False</td>\n      <td>False</td>\n      <td>True</td>\n      <td>True</td>\n      <td>False</td>\n    </tr>\n    <tr>\n      <th>...</th>\n      <td>...</td>\n      <td>...</td>\n      <td>...</td>\n      <td>...</td>\n      <td>...</td>\n      <td>...</td>\n    </tr>\n    <tr>\n      <th>317</th>\n      <td>False</td>\n      <td>True</td>\n      <td>True</td>\n      <td>False</td>\n      <td>False</td>\n      <td>True</td>\n    </tr>\n    <tr>\n      <th>318</th>\n      <td>True</td>\n      <td>False</td>\n      <td>True</td>\n      <td>False</td>\n      <td>True</td>\n      <td>False</td>\n    </tr>\n    <tr>\n      <th>319</th>\n      <td>True</td>\n      <td>False</td>\n      <td>False</td>\n      <td>True</td>\n      <td>True</td>\n      <td>False</td>\n    </tr>\n    <tr>\n      <th>320</th>\n      <td>True</td>\n      <td>False</td>\n      <td>True</td>\n      <td>False</td>\n      <td>True</td>\n      <td>False</td>\n    </tr>\n    <tr>\n      <th>321</th>\n      <td>True</td>\n      <td>False</td>\n      <td>False</td>\n      <td>True</td>\n      <td>True</td>\n      <td>False</td>\n    </tr>\n  </tbody>\n</table>\n<p>263 rows × 6 columns</p>\n</div>"
          },
          "metadata": {}
        }
      ],
      "execution_count": null
    },
    {
      "cell_type": "code",
      "source": [
        "y = df[\"Salary\"]"
      ],
      "metadata": {
        "execution": {
          "iopub.status.busy": "2024-10-29T14:34:55.422529Z",
          "iopub.execute_input": "2024-10-29T14:34:55.42304Z",
          "iopub.status.idle": "2024-10-29T14:34:55.432826Z",
          "shell.execute_reply.started": "2024-10-29T14:34:55.422986Z",
          "shell.execute_reply": "2024-10-29T14:34:55.431583Z"
        },
        "trusted": true,
        "id": "3YleD6Ul2a9f"
      },
      "outputs": [],
      "execution_count": null
    },
    {
      "cell_type": "code",
      "source": [
        "X_ = df.drop(['Salary','League','Division','NewLeague'], axis=1).astype('float64')"
      ],
      "metadata": {
        "execution": {
          "iopub.status.busy": "2024-10-29T14:34:55.436604Z",
          "iopub.execute_input": "2024-10-29T14:34:55.43744Z",
          "iopub.status.idle": "2024-10-29T14:34:55.445661Z",
          "shell.execute_reply.started": "2024-10-29T14:34:55.437394Z",
          "shell.execute_reply": "2024-10-29T14:34:55.444451Z"
        },
        "trusted": true,
        "id": "zwx3eorc2a9f"
      },
      "outputs": [],
      "execution_count": null
    },
    {
      "cell_type": "code",
      "source": [
        "X = pd.concat([X_, dms[['League_N','Division_W','NewLeague_N']]], axis=1)"
      ],
      "metadata": {
        "execution": {
          "iopub.status.busy": "2024-10-29T14:34:55.446997Z",
          "iopub.execute_input": "2024-10-29T14:34:55.447403Z",
          "iopub.status.idle": "2024-10-29T14:34:55.461054Z",
          "shell.execute_reply.started": "2024-10-29T14:34:55.447363Z",
          "shell.execute_reply": "2024-10-29T14:34:55.459692Z"
        },
        "trusted": true,
        "id": "zPjtPBeJ2a9g"
      },
      "outputs": [],
      "execution_count": null
    },
    {
      "cell_type": "code",
      "source": [
        "X_train, X_test , y_train , y_test = train_test_split(X,\n",
        "                                                     y,\n",
        "                                                     test_size=0.25,\n",
        "                                                     random_state=42)"
      ],
      "metadata": {
        "execution": {
          "iopub.status.busy": "2024-10-29T14:34:55.462933Z",
          "iopub.execute_input": "2024-10-29T14:34:55.463562Z",
          "iopub.status.idle": "2024-10-29T14:34:55.473545Z",
          "shell.execute_reply.started": "2024-10-29T14:34:55.463499Z",
          "shell.execute_reply": "2024-10-29T14:34:55.472269Z"
        },
        "trusted": true,
        "id": "oIXQB_mH2a9g"
      },
      "outputs": [],
      "execution_count": null
    },
    {
      "cell_type": "code",
      "source": [
        "ridge_model = Ridge(alpha= 0.1).fit(X_train, y_train)"
      ],
      "metadata": {
        "execution": {
          "iopub.status.busy": "2024-10-29T14:36:10.081433Z",
          "iopub.execute_input": "2024-10-29T14:36:10.082021Z",
          "iopub.status.idle": "2024-10-29T14:36:10.09557Z",
          "shell.execute_reply.started": "2024-10-29T14:36:10.08197Z",
          "shell.execute_reply": "2024-10-29T14:36:10.094105Z"
        },
        "trusted": true,
        "id": "UYQd3dwJ2a9g"
      },
      "outputs": [],
      "execution_count": null
    },
    {
      "cell_type": "code",
      "source": [
        "ridge_model"
      ],
      "metadata": {
        "execution": {
          "iopub.status.busy": "2024-10-29T14:36:10.319704Z",
          "iopub.execute_input": "2024-10-29T14:36:10.320302Z",
          "iopub.status.idle": "2024-10-29T14:36:10.330545Z",
          "shell.execute_reply.started": "2024-10-29T14:36:10.32025Z",
          "shell.execute_reply": "2024-10-29T14:36:10.329218Z"
        },
        "trusted": true,
        "id": "9gqF4oV-2a9g",
        "outputId": "00a34574-4add-4d2c-b8c5-05c8dd3f31d6"
      },
      "outputs": [
        {
          "execution_count": 65,
          "output_type": "execute_result",
          "data": {
            "text/plain": "Ridge(alpha=0.1)",
            "text/html": "<style>#sk-container-id-8 {color: black;background-color: white;}#sk-container-id-8 pre{padding: 0;}#sk-container-id-8 div.sk-toggleable {background-color: white;}#sk-container-id-8 label.sk-toggleable__label {cursor: pointer;display: block;width: 100%;margin-bottom: 0;padding: 0.3em;box-sizing: border-box;text-align: center;}#sk-container-id-8 label.sk-toggleable__label-arrow:before {content: \"▸\";float: left;margin-right: 0.25em;color: #696969;}#sk-container-id-8 label.sk-toggleable__label-arrow:hover:before {color: black;}#sk-container-id-8 div.sk-estimator:hover label.sk-toggleable__label-arrow:before {color: black;}#sk-container-id-8 div.sk-toggleable__content {max-height: 0;max-width: 0;overflow: hidden;text-align: left;background-color: #f0f8ff;}#sk-container-id-8 div.sk-toggleable__content pre {margin: 0.2em;color: black;border-radius: 0.25em;background-color: #f0f8ff;}#sk-container-id-8 input.sk-toggleable__control:checked~div.sk-toggleable__content {max-height: 200px;max-width: 100%;overflow: auto;}#sk-container-id-8 input.sk-toggleable__control:checked~label.sk-toggleable__label-arrow:before {content: \"▾\";}#sk-container-id-8 div.sk-estimator input.sk-toggleable__control:checked~label.sk-toggleable__label {background-color: #d4ebff;}#sk-container-id-8 div.sk-label input.sk-toggleable__control:checked~label.sk-toggleable__label {background-color: #d4ebff;}#sk-container-id-8 input.sk-hidden--visually {border: 0;clip: rect(1px 1px 1px 1px);clip: rect(1px, 1px, 1px, 1px);height: 1px;margin: -1px;overflow: hidden;padding: 0;position: absolute;width: 1px;}#sk-container-id-8 div.sk-estimator {font-family: monospace;background-color: #f0f8ff;border: 1px dotted black;border-radius: 0.25em;box-sizing: border-box;margin-bottom: 0.5em;}#sk-container-id-8 div.sk-estimator:hover {background-color: #d4ebff;}#sk-container-id-8 div.sk-parallel-item::after {content: \"\";width: 100%;border-bottom: 1px solid gray;flex-grow: 1;}#sk-container-id-8 div.sk-label:hover label.sk-toggleable__label {background-color: #d4ebff;}#sk-container-id-8 div.sk-serial::before {content: \"\";position: absolute;border-left: 1px solid gray;box-sizing: border-box;top: 0;bottom: 0;left: 50%;z-index: 0;}#sk-container-id-8 div.sk-serial {display: flex;flex-direction: column;align-items: center;background-color: white;padding-right: 0.2em;padding-left: 0.2em;position: relative;}#sk-container-id-8 div.sk-item {position: relative;z-index: 1;}#sk-container-id-8 div.sk-parallel {display: flex;align-items: stretch;justify-content: center;background-color: white;position: relative;}#sk-container-id-8 div.sk-item::before, #sk-container-id-8 div.sk-parallel-item::before {content: \"\";position: absolute;border-left: 1px solid gray;box-sizing: border-box;top: 0;bottom: 0;left: 50%;z-index: -1;}#sk-container-id-8 div.sk-parallel-item {display: flex;flex-direction: column;z-index: 1;position: relative;background-color: white;}#sk-container-id-8 div.sk-parallel-item:first-child::after {align-self: flex-end;width: 50%;}#sk-container-id-8 div.sk-parallel-item:last-child::after {align-self: flex-start;width: 50%;}#sk-container-id-8 div.sk-parallel-item:only-child::after {width: 0;}#sk-container-id-8 div.sk-dashed-wrapped {border: 1px dashed gray;margin: 0 0.4em 0.5em 0.4em;box-sizing: border-box;padding-bottom: 0.4em;background-color: white;}#sk-container-id-8 div.sk-label label {font-family: monospace;font-weight: bold;display: inline-block;line-height: 1.2em;}#sk-container-id-8 div.sk-label-container {text-align: center;}#sk-container-id-8 div.sk-container {/* jupyter's `normalize.less` sets `[hidden] { display: none; }` but bootstrap.min.css set `[hidden] { display: none !important; }` so we also need the `!important` here to be able to override the default hidden behavior on the sphinx rendered scikit-learn.org. See: https://github.com/scikit-learn/scikit-learn/issues/21755 */display: inline-block !important;position: relative;}#sk-container-id-8 div.sk-text-repr-fallback {display: none;}</style><div id=\"sk-container-id-8\" class=\"sk-top-container\"><div class=\"sk-text-repr-fallback\"><pre>Ridge(alpha=0.1)</pre><b>In a Jupyter environment, please rerun this cell to show the HTML representation or trust the notebook. <br />On GitHub, the HTML representation is unable to render, please try loading this page with nbviewer.org.</b></div><div class=\"sk-container\" hidden><div class=\"sk-item\"><div class=\"sk-estimator sk-toggleable\"><input class=\"sk-toggleable__control sk-hidden--visually\" id=\"sk-estimator-id-8\" type=\"checkbox\" checked><label for=\"sk-estimator-id-8\" class=\"sk-toggleable__label sk-toggleable__label-arrow\">Ridge</label><div class=\"sk-toggleable__content\"><pre>Ridge(alpha=0.1)</pre></div></div></div></div></div>"
          },
          "metadata": {}
        }
      ],
      "execution_count": null
    },
    {
      "cell_type": "code",
      "source": [
        "ridge_model.coef_"
      ],
      "metadata": {
        "execution": {
          "iopub.status.busy": "2024-10-29T14:36:10.548936Z",
          "iopub.execute_input": "2024-10-29T14:36:10.549405Z",
          "iopub.status.idle": "2024-10-29T14:36:10.5591Z",
          "shell.execute_reply.started": "2024-10-29T14:36:10.549362Z",
          "shell.execute_reply": "2024-10-29T14:36:10.55739Z"
        },
        "trusted": true,
        "id": "csiWB7yg2a9h",
        "outputId": "b0418ff7-db42-4912-f049-9c616f5433fd"
      },
      "outputs": [
        {
          "execution_count": 66,
          "output_type": "execute_result",
          "data": {
            "text/plain": "array([   4.383357  ,    9.04031555,   -3.6198135 ,   -3.53280599,\n          4.17479086,   14.44702333,   -0.28832803,    0.33508587,\n         -0.81576375,    1.39024268,    0.87271668,   -0.41344937,\n          0.24618032,    0.21760704,   -2.18581352,  123.44540083,\n       -110.80693207,  -64.58168952])"
          },
          "metadata": {}
        }
      ],
      "execution_count": null
    },
    {
      "cell_type": "code",
      "source": [
        "ridge_model.intercept_"
      ],
      "metadata": {
        "execution": {
          "iopub.status.busy": "2024-10-29T14:36:10.94283Z",
          "iopub.execute_input": "2024-10-29T14:36:10.943254Z",
          "iopub.status.idle": "2024-10-29T14:36:10.951896Z",
          "shell.execute_reply.started": "2024-10-29T14:36:10.943216Z",
          "shell.execute_reply": "2024-10-29T14:36:10.950456Z"
        },
        "trusted": true,
        "id": "KHLy4NgD2a9h",
        "outputId": "76f5f175-c556-464c-8473-ba759631cd66"
      },
      "outputs": [
        {
          "execution_count": 67,
          "output_type": "execute_result",
          "data": {
            "text/plain": "-92.82003618280271"
          },
          "metadata": {}
        }
      ],
      "execution_count": null
    },
    {
      "cell_type": "code",
      "source": [],
      "metadata": {
        "id": "X7y3ZywK2a9h"
      },
      "outputs": [],
      "execution_count": null
    }
  ]
}